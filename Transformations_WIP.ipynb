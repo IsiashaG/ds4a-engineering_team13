{
  "cells": [
    {
      "cell_type": "markdown",
      "metadata": {
        "id": "view-in-github",
        "colab_type": "text"
      },
      "source": [
        "<a href=\"https://colab.research.google.com/github/IsiashaG/ds4a-engineering_team13/blob/main/Transformations_WIP.ipynb\" target=\"_parent\"><img src=\"https://colab.research.google.com/assets/colab-badge.svg\" alt=\"Open In Colab\"/></a>"
      ]
    },
    {
      "cell_type": "code",
      "execution_count": null,
      "id": "53cf0524",
      "metadata": {
        "id": "53cf0524"
      },
      "outputs": [],
      "source": [
        "import numpy as np\n",
        "import pandas as pd\n",
        "from datetime import datetime, timedelta  # for the Date dimension\n",
        "import csv\n",
        "# Mounting the Google Drive\n",
        "from google.colab import  drive"
      ]
    },
    {
      "cell_type": "code",
      "source": [
        "csv=[]\n",
        "csv.append(\"a\")\n",
        "csv.append(\"b\")\n",
        "\n",
        "for i in range(0,len(csv)):\n",
        "  print(csv[i])\n"
      ],
      "metadata": {
        "colab": {
          "base_uri": "https://localhost:8080/"
        },
        "id": "ryAN7OCyHmUd",
        "outputId": "62f239c0-7c9b-46f7-9750-07d9094364d3"
      },
      "id": "ryAN7OCyHmUd",
      "execution_count": null,
      "outputs": [
        {
          "output_type": "stream",
          "name": "stdout",
          "text": [
            "a\n",
            "b\n"
          ]
        }
      ]
    },
    {
      "cell_type": "code",
      "execution_count": null,
      "id": "e9b3cdfd",
      "metadata": {
        "id": "e9b3cdfd"
      },
      "outputs": [],
      "source": [
        "import pandas as pd\n",
        "# Display all of the columns and 100 rows in the Jupyter Notebook\n",
        "pd.set_option('display.max_columns', None)\n",
        "pd.set_option('display.max_rows', 100)\n",
        "\n",
        "# Ignore Warning Code\n",
        "import warnings\n",
        "warnings.filterwarnings('ignore')\n",
        "file_encoding = 'cp1252'"
      ]
    },
    {
      "cell_type": "code",
      "execution_count": null,
      "id": "326673ac",
      "metadata": {
        "id": "326673ac"
      },
      "outputs": [],
      "source": [
        "# Raw string literals to treat the backslashes as literal characters\n",
        "file_path_1 = 'https://raw.githubusercontent.com/esneider544/temporal/main/2020_General_Payment_Sample.csv'\n",
        "file_path_2 = 'https://raw.githubusercontent.com/esneider544/temporal/main/2021_General_Payment_Sample.csv'\n",
        "file_path_3 = 'https://raw.githubusercontent.com/esneider544/temporal/main/2020_Ownership_Payment_Data_Sample.csv'\n",
        "file_path_4 = 'https://raw.githubusercontent.com/esneider544/temporal/main/2021_Ownership_Payment_Data_Sample.csv'\n",
        "file_path_5 = 'https://raw.githubusercontent.com/esneider544/temporal/main/2020_Research_Payment_Data_Sample.csv'\n",
        "file_path_6 = 'https://raw.githubusercontent.com/esneider544/temporal/main/2021_Research_Payment_Data_Sample.csv'\n",
        "#Physicians\n",
        "file_path_7 = 'https://drive.google.com/uc?export=download&id=13H6XuiCcf8Dm05PXupfSkBsbiawCo63h&confirm=t&uuid=dfeeff01-0c6f-42b5-a0bb-9931fc86ca35&at=AKKF8vy9LJqd0LsfH2Qi0PWONvXi:1687880023321'\n",
        "#Reviews\n",
        "file_path_8='https://drive.google.com/uc?export=download&id=1CnI5IBIIdxhDYfM1WnvC_Z8O4Dyu5bXh'\n"
      ]
    },
    {
      "cell_type": "code",
      "execution_count": null,
      "id": "c77aad01",
      "metadata": {
        "id": "c77aad01"
      },
      "outputs": [],
      "source": [
        "df_general_2020_payment = pd.read_csv(file_path_1)\n",
        "df_general_2021_payment = pd.read_csv(file_path_2)\n",
        "\n",
        "df_ownership_2020_payment = pd.read_csv(file_path_3)\n",
        "df_ownership_2021_payment = pd.read_csv(file_path_4)\n",
        "\n",
        "df_research_2020_payment = pd.read_csv(file_path_5)\n",
        "df_research_2021_payment = pd.read_csv(file_path_6)\n",
        "\n",
        "df_physicians = pd.read_csv(file_path_7,header=0,usecols=[\"Covered_Recipient_Profile_ID\", \"Covered_Recipient_NPI\",\"Covered_Recipient_Profile_First_Name\",\"Covered_Recipient_Profile_Middle_Name\",\"Covered_Recipient_Profile_Last_Name\" ])\n",
        "df_reviews = pd.read_csv(file_path_8,header=0,usecols=[\"NPI\", \" final_MIPS_score_without_CPB\",\" final_MIPS_score\"])\n",
        "df_reviews=df_reviews.rename(columns={\" final_MIPS_score_without_CPB\": \"final_MIPS_score_without_CPB\",\" final_MIPS_score\":\"final_MIPS_score\"})\n"
      ]
    },
    {
      "cell_type": "code",
      "source": [
        "print(df_reviews.columns)"
      ],
      "metadata": {
        "colab": {
          "base_uri": "https://localhost:8080/"
        },
        "id": "RSwyAUoNQyHC",
        "outputId": "a5ef2a31-274e-4644-e72e-a790e70ee7f2"
      },
      "id": "RSwyAUoNQyHC",
      "execution_count": null,
      "outputs": [
        {
          "output_type": "stream",
          "name": "stdout",
          "text": [
            "Index(['NPI', 'final_MIPS_score_without_CPB', 'final_MIPS_score'], dtype='object')\n"
          ]
        }
      ]
    },
    {
      "cell_type": "markdown",
      "id": "18dace6b",
      "metadata": {
        "id": "18dace6b"
      },
      "source": [
        "## Lowering the column names\n",
        "- Goal is to match what is in the S3 bucket that Esneyder is using"
      ]
    },
    {
      "cell_type": "code",
      "execution_count": null,
      "id": "4a515fb1",
      "metadata": {
        "id": "4a515fb1"
      },
      "outputs": [],
      "source": [
        "df_general_2020_payment.columns = df_general_2020_payment.columns.str.lower()\n",
        "df_general_2021_payment.columns = df_general_2021_payment.columns.str.lower()\n",
        "\n",
        "df_ownership_2020_payment.columns = df_ownership_2020_payment.columns.str.lower()\n",
        "df_ownership_2021_payment.columns = df_ownership_2021_payment.columns.str.lower()\n",
        "\n",
        "df_research_2020_payment.columns = df_research_2020_payment.columns.str.lower()\n",
        "df_research_2021_payment.columns = df_research_2021_payment.columns.str.lower()\n",
        "\n",
        "df_physicians.columns = df_physicians.columns.str.lower()"
      ]
    },
    {
      "cell_type": "markdown",
      "id": "b4b0752a",
      "metadata": {
        "id": "b4b0752a"
      },
      "source": [
        "# Feature Engineering"
      ]
    },
    {
      "cell_type": "markdown",
      "id": "88bc41e5",
      "metadata": {
        "id": "88bc41e5"
      },
      "source": [
        "### Creating lists of column  of interest\n",
        "> - Share it with Esneyder to implement it as the name columns_of_interest is used and overwritten in the code."
      ]
    },
    {
      "cell_type": "code",
      "execution_count": null,
      "id": "e474f66f",
      "metadata": {
        "id": "e474f66f"
      },
      "outputs": [],
      "source": [
        "product_categories_of_interest = ['product_category_or_therapeutic_area_1',\n",
        "                                  'product_category_or_therapeutic_area_2',\n",
        "                                  'product_category_or_therapeutic_area_3',\n",
        "                                  'product_category_or_therapeutic_area_4',\n",
        "                                  'product_category_or_therapeutic_area_5']\n",
        "\n",
        "specialties_of_interest = [\"principal_investigator_1_specialty_1\",\n",
        "                           \"covered_recipient_specialty_1\",\n",
        "                           \"principal_investigator_2_specialty_1\",\n",
        "                           \"principal_investigator_3_specialty_1\",\n",
        "                           \"principal_investigator_4_specialty_1\",\n",
        "                           \"principal_investigator_5_specialty_1\"]\n",
        "\n",
        "npi_of_interest = ['covered_recipient_npi',\n",
        "                   'principal_investigator_1_npi',\n",
        "                   'principal_investigator_2_npi',\n",
        "                   'principal_investigator_3_npi',\n",
        "                   'principal_investigator_4_npi',\n",
        "                   'principal_investigator_5_npi']"
      ]
    },
    {
      "cell_type": "code",
      "execution_count": null,
      "id": "257da35f",
      "metadata": {
        "id": "257da35f"
      },
      "outputs": [],
      "source": [
        "# Creating new columns of interest\n",
        "df_research_2020_payment['specialties'] = df_research_2020_payment[specialties_of_interest].apply(lambda row: '|'.join([val.title() for val in row if pd.notnull(val)]), axis=1)\n",
        "df_research_2021_payment['specialties'] = df_research_2021_payment[specialties_of_interest].apply(lambda row: '|'.join([val.title() for val in row if pd.notnull(val)]), axis=1)\n",
        "\n",
        "df_research_2020_payment['category_products'] = df_research_2020_payment[product_categories_of_interest].apply(lambda row: '|'.join([val.title() for val in row if pd.notnull(val)]), axis=1)\n",
        "df_research_2021_payment['category_products'] = df_research_2021_payment[product_categories_of_interest].apply(lambda row: '|'.join([val.title() for val in row if pd.notnull(val)]), axis=1)\n",
        "\n",
        "df_research_2020_payment['physicians_npi'] = df_research_2020_payment[npi_of_interest].apply(lambda row: '|'.join([str(val) for val in row if pd.notnull(val)]), axis=1)\n",
        "df_research_2021_payment['physicians_npi'] = df_research_2021_payment[npi_of_interest].apply(lambda row: '|'.join([str(val) for val in row if pd.notnull(val)]), axis=1)\n",
        "\n",
        "df_general_2020_payment['category_products'] = df_general_2020_payment[product_categories_of_interest].apply(lambda row: '|'.join([val.title() for val in row if pd.notnull(val)]), axis=1)\n",
        "df_general_2021_payment['category_products'] = df_general_2021_payment[product_categories_of_interest].apply(lambda row: '|'.join([val.title() for val in row if pd.notnull(val)]), axis=1)\n",
        "\n",
        "df_general_2020_payment['physicians_npi'] = df_general_2020_payment['covered_recipient_npi']\n",
        "df_general_2021_payment['physicians_npi'] = df_general_2020_payment['covered_recipient_npi']"
      ]
    },
    {
      "cell_type": "code",
      "execution_count": null,
      "id": "2f5315d4",
      "metadata": {
        "id": "2f5315d4"
      },
      "outputs": [],
      "source": [
        "# Creating new columns by splitting the rest\n",
        "df_research_2020_payment['specialties'] = df_research_2020_payment['specialties'].str.split('|').apply(lambda x: list(set(x)) if isinstance(x, list) else x if pd.notnull(x) else x)\n",
        "df_research_2021_payment['specialties'] = df_research_2021_payment['specialties'].str.split('|').apply(lambda x: list(set(x)) if isinstance(x, list) else x if pd.notnull(x) else x)\n",
        "\n",
        "df_research_2020_payment['category_products'] = df_research_2020_payment['category_products'].str.split('|').apply(lambda x: list(set(x)) if isinstance(x, list) else x if pd.notnull(x) else x)\n",
        "df_research_2021_payment['category_products'] = df_research_2021_payment['category_products'].str.split('|').apply(lambda x: list(set(x)) if isinstance(x, list) else x if pd.notnull(x) else x)\n",
        "\n",
        "df_research_2020_payment['physicians_npi'] = df_research_2020_payment['physicians_npi'].str.split('|').apply(lambda x: list(set(x)) if isinstance(x, list) else x if pd.notnull(x) else x)\n",
        "df_research_2021_payment['physicians_npi'] = df_research_2021_payment['physicians_npi'].str.split('|').apply(lambda x: list(set(x)) if isinstance(x, list) else x if pd.notnull(x) else x)\n",
        "\n",
        "df_general_2020_payment['specialties'] = df_general_2020_payment['covered_recipient_specialty_1'].str.split('|').apply(lambda x: list(set(x)) if isinstance(x, list) else x if pd.notnull(x) else x)\n",
        "df_general_2021_payment['specialties'] = df_general_2021_payment['covered_recipient_specialty_1'].str.split('|').apply(lambda x: list(set(x)) if isinstance(x, list) else x if pd.notnull(x) else x)\n",
        "\n",
        "df_general_2020_payment['category_products'] = df_general_2020_payment['category_products'].str.split('|').apply(lambda x: list(set(x)) if isinstance(x, list) else x if pd.notnull(x) else x)\n",
        "df_general_2021_payment['category_products'] = df_general_2021_payment['category_products'].str.split('|').apply(lambda x: list(set(x)) if isinstance(x, list) else x if pd.notnull(x) else x)\n",
        "\n",
        "df_ownership_2020_payment['specialties'] = df_ownership_2020_payment['physician_specialty'].str.split('|').apply(lambda x: list(set(x)) if isinstance(x, list) else x if pd.notnull(x) else x)\n",
        "df_ownership_2021_payment['specialties'] = df_ownership_2021_payment['physician_specialty'].str.split('|').apply(lambda x: list(set(x)) if isinstance(x, list) else x if pd.notnull(x) else x)"
      ]
    },
    {
      "cell_type": "code",
      "source": [
        "df_reviews=df_reviews.astype(\"int\")"
      ],
      "metadata": {
        "id": "ih3cg20wf0OZ"
      },
      "id": "ih3cg20wf0OZ",
      "execution_count": null,
      "outputs": []
    },
    {
      "cell_type": "code",
      "source": [],
      "metadata": {
        "id": "AG6DRdIASCMa"
      },
      "id": "AG6DRdIASCMa",
      "execution_count": null,
      "outputs": []
    },
    {
      "cell_type": "markdown",
      "id": "c5fc635a",
      "metadata": {
        "id": "c5fc635a"
      },
      "source": [
        "### PHYSICIANS TABLE"
      ]
    },
    {
      "cell_type": "code",
      "execution_count": null,
      "id": "19973c68",
      "metadata": {
        "id": "19973c68"
      },
      "outputs": [],
      "source": [
        "##########PHYSICIANS TABLE################################\n",
        "\n",
        "#Skyp those physicians without NPI in the file\n",
        "df_physicians=df_physicians[df_physicians.covered_recipient_npi.notna()]\n",
        "\n",
        "# Are there physicians in general_2020_payment that are not in the principal Physicians table?\n",
        "df_new_physicians=df_general_2020_payment.loc[~df_general_2020_payment.covered_recipient_npi.isin(df_physicians.covered_recipient_npi)]\n",
        "df_new_physicians=df_new_physicians[df_new_physicians.covered_recipient_npi.notna()]\n",
        "df_new_physicians=df_new_physicians[[\"covered_recipient_profile_id\", \"covered_recipient_npi\",\"covered_recipient_first_name\",\"covered_recipient_middle_name\",\"covered_recipient_last_name\" ]]\n",
        "df_new_physicians=df_new_physicians.rename(columns={\"covered_recipient_first_name\": \"covered_recipient_profile_first_name\",\"covered_recipient_middle_name\": \"covered_recipient_profile_middle_name\",\"covered_recipient_last_name\": \"covered_recipient_profile_last_name\"})\n",
        "frames=[df_physicians,df_new_physicians]\n",
        "df_physicians=pd.concat(frames,ignore_index=True)\n",
        "\n",
        "# Are there physicians in general_2021_payment that are not in the principal Physicians table?\n",
        "df_new_physicians=df_general_2021_payment.loc[~df_general_2021_payment.covered_recipient_npi.isin(df_physicians.covered_recipient_npi)]\n",
        "df_new_physicians=df_new_physicians[df_new_physicians.covered_recipient_npi.notna()]\n",
        "df_new_physicians=df_new_physicians[[\"covered_recipient_profile_id\", \"covered_recipient_npi\",\"covered_recipient_first_name\",\"covered_recipient_middle_name\",\"covered_recipient_last_name\" ]]\n",
        "df_new_physicians=df_new_physicians.rename(columns={\"covered_recipient_first_name\": \"covered_recipient_profile_first_name\",\"covered_recipient_middle_name\": \"covered_recipient_profile_middle_name\",\"covered_recipient_last_name\": \"covered_recipient_profile_last_name\"})\n",
        "frames=[df_physicians,df_new_physicians]\n",
        "df_physicians=pd.concat(frames,ignore_index=True)\n",
        "\n",
        "#Are there physicians in research_2020_payment that are not in the principal Physicians table?\n",
        "df_new_physicians=df_research_2020_payment.loc[~df_research_2020_payment.covered_recipient_npi.isin(df_physicians.covered_recipient_npi)]\n",
        "df_new_physicians=df_new_physicians[df_new_physicians.covered_recipient_npi.notna()]\n",
        "df_new_physicians=df_new_physicians[[\"covered_recipient_profile_id\", \"covered_recipient_npi\",\"covered_recipient_first_name\",\"covered_recipient_middle_name\",\"covered_recipient_last_name\" ]]\n",
        "df_new_physicians=df_new_physicians.rename(columns={\"covered_recipient_first_name\": \"covered_recipient_profile_first_name\",\"covered_recipient_middle_name\": \"covered_recipient_profile_middle_name\",\"covered_recipient_last_name\": \"covered_recipient_profile_last_name\"})\n",
        "frames=[df_physicians,df_new_physicians]\n",
        "df_physicians=pd.concat(frames,ignore_index=True)\n",
        "\n",
        "#Part 2 from research_2020_payment Investigator 1\n",
        "df_new_physicians=df_research_2020_payment.loc[~df_research_2020_payment.principal_investigator_1_npi.isin(df_physicians.covered_recipient_npi)]\n",
        "df_new_physicians=df_new_physicians[df_new_physicians.principal_investigator_1_npi.notna()]\n",
        "df_new_physicians=df_new_physicians[[\"principal_investigator_1_profile_id\", \"principal_investigator_1_npi\",\"principal_investigator_1_first_name\",\"principal_investigator_1_middle_name\",\"principal_investigator_1_last_name\" ]]\n",
        "df_new_physicians=df_new_physicians.rename(columns={\"principal_investigator_1_profile_id\":\"covered_recipient_profile_id\",\"principal_investigator_1_npi\":\"covered_recipient_npi\",\"principal_investigator_1_first_name\": \"covered_recipient_profile_first_name\",\"principal_investigator_1_middle_name\": \"covered_recipient_profile_middle_name\",\"principal_investigator_1_last_name\": \"covered_recipient_profile_last_name\"})\n",
        "frames=[df_physicians,df_new_physicians]\n",
        "df_physicians=pd.concat(frames,ignore_index=True)\n",
        "\n",
        "#Part 3 from research_2020_payment Investigator 2\n",
        "df_new_physicians=df_research_2020_payment.loc[~df_research_2020_payment.principal_investigator_2_npi.isin(df_physicians.covered_recipient_npi)]\n",
        "df_new_physicians=df_new_physicians[df_new_physicians.principal_investigator_2_npi.notna()]\n",
        "df_new_physicians=df_new_physicians[[\"principal_investigator_2_profile_id\", \"principal_investigator_2_npi\",\"principal_investigator_2_first_name\",\"principal_investigator_2_middle_name\",\"principal_investigator_2_last_name\" ]]\n",
        "df_new_physicians=df_new_physicians.rename(columns={\"principal_investigator_2_profile_id\":\"covered_recipient_profile_id\",\"principal_investigator_2_npi\":\"covered_recipient_npi\",\"principal_investigator_2_first_name\": \"covered_recipient_profile_first_name\",\"principal_investigator_2_middle_name\": \"covered_recipient_profile_middle_name\",\"principal_investigator_2_last_name\": \"covered_recipient_profile_last_name\"})\n",
        "frames=[df_physicians,df_new_physicians]\n",
        "df_physicians=pd.concat(frames,ignore_index=True)\n",
        "\n",
        "#Part 4 from research_2020_payment Investigator 3\n",
        "df_new_physicians=df_research_2020_payment.loc[~df_research_2020_payment.principal_investigator_3_npi.isin(df_physicians.covered_recipient_npi)]\n",
        "df_new_physicians=df_new_physicians[df_new_physicians.principal_investigator_3_npi.notna()]\n",
        "df_new_physicians=df_new_physicians[[\"principal_investigator_3_profile_id\", \"principal_investigator_3_npi\",\"principal_investigator_3_first_name\",\"principal_investigator_3_middle_name\",\"principal_investigator_3_last_name\" ]]\n",
        "df_new_physicians=df_new_physicians.rename(columns={\"principal_investigator_3_profile_id\":\"covered_recipient_profile_id\",\"principal_investigator_3_npi\":\"covered_recipient_npi\",\"principal_investigator_3_first_name\": \"covered_recipient_profile_first_name\",\"principal_investigator_3_middle_name\": \"covered_recipient_profile_middle_name\",\"principal_investigator_3_last_name\": \"covered_recipient_profile_last_name\"})\n",
        "frames=[df_physicians,df_new_physicians]\n",
        "df_physicians=pd.concat(frames,ignore_index=True)\n",
        "\n",
        "\n",
        "#Part 5 from research_2020_payment Investigator 4\n",
        "df_new_physicians=df_research_2020_payment.loc[~df_research_2020_payment.principal_investigator_4_npi.isin(df_physicians.covered_recipient_npi)]\n",
        "df_new_physicians=df_new_physicians[df_new_physicians.principal_investigator_4_npi.notna()]\n",
        "df_new_physicians=df_new_physicians[[\"principal_investigator_4_profile_id\", \"principal_investigator_4_npi\",\"principal_investigator_4_first_name\",\"principal_investigator_4_middle_name\",\"principal_investigator_4_last_name\" ]]\n",
        "df_new_physicians=df_new_physicians.rename(columns={\"principal_investigator_4_profile_id\":\"covered_recipient_profile_id\",\"principal_investigator_4_npi\":\"covered_recipient_npi\",\"principal_investigator_4_first_name\": \"covered_recipient_profile_first_name\",\"principal_investigator_4_middle_name\": \"covered_recipient_profile_middle_name\",\"principal_investigator_4_last_name\": \"covered_recipient_profile_last_name\"})\n",
        "frames=[df_physicians,df_new_physicians]\n",
        "df_physicians=pd.concat(frames,ignore_index=True)\n",
        "\n",
        "\n",
        "#Part 6 from research_2020_payment Investigator 5\n",
        "df_new_physicians=df_research_2020_payment.loc[~df_research_2020_payment.principal_investigator_5_npi.isin(df_physicians.covered_recipient_npi)]\n",
        "df_new_physicians=df_new_physicians[df_new_physicians.principal_investigator_5_npi.notna()]\n",
        "df_new_physicians=df_new_physicians[[\"principal_investigator_5_profile_id\", \"principal_investigator_5_npi\",\"principal_investigator_5_first_name\",\"principal_investigator_5_middle_name\",\"principal_investigator_5_last_name\" ]]\n",
        "df_new_physicians=df_new_physicians.rename(columns={\"principal_investigator_5_profile_id\":\"covered_recipient_profile_id\",\"principal_investigator_5_npi\":\"covered_recipient_npi\",\"principal_investigator_5_first_name\": \"covered_recipient_profile_first_name\",\"principal_investigator_5_middle_name\": \"covered_recipient_profile_middle_name\",\"principal_investigator_5_last_name\": \"covered_recipient_profile_last_name\"})\n",
        "frames=[df_physicians,df_new_physicians]\n",
        "df_physicians=pd.concat(frames,ignore_index=True)\n",
        "\n",
        "# Are there physicians in general_2021_payment that are not in the principal Physicians table?\n",
        "df_new_physicians=df_general_2021_payment.loc[~df_general_2021_payment.covered_recipient_npi.isin(df_physicians.covered_recipient_npi)]\n",
        "df_new_physicians=df_new_physicians[df_new_physicians.covered_recipient_npi.notna()]\n",
        "df_new_physicians=df_new_physicians[[\"covered_recipient_profile_id\", \"covered_recipient_npi\",\"covered_recipient_first_name\",\"covered_recipient_middle_name\",\"covered_recipient_last_name\" ]]\n",
        "df_new_physicians=df_new_physicians.rename(columns={\"covered_recipient_first_name\": \"covered_recipient_profile_first_name\",\"covered_recipient_middle_name\": \"covered_recipient_profile_middle_name\",\"covered_recipient_last_name\": \"covered_recipient_profile_last_name\"})\n",
        "frames=[df_physicians,df_new_physicians]\n",
        "df_physicians=pd.concat(frames,ignore_index=True)\n",
        "\n",
        "# Are there physicians in general_2021_payment that are not in the principal Physicians table?\n",
        "df_new_physicians=df_general_2021_payment.loc[~df_general_2021_payment.covered_recipient_npi.isin(df_physicians.covered_recipient_npi)]\n",
        "df_new_physicians=df_new_physicians[df_new_physicians.covered_recipient_npi.notna()]\n",
        "df_new_physicians=df_new_physicians[[\"covered_recipient_profile_id\", \"covered_recipient_npi\",\"covered_recipient_first_name\",\"covered_recipient_middle_name\",\"covered_recipient_last_name\" ]]\n",
        "df_new_physicians=df_new_physicians.rename(columns={\"covered_recipient_first_name\": \"covered_recipient_profile_first_name\",\"covered_recipient_middle_name\": \"covered_recipient_profile_middle_name\",\"covered_recipient_last_name\": \"covered_recipient_profile_last_name\"})\n",
        "frames=[df_physicians,df_new_physicians]\n",
        "df_physicians=pd.concat(frames,ignore_index=True)\n",
        "\n",
        "#Are there physicians in research_2021_payment that are not in the principal Physicians table?\n",
        "df_new_physicians=df_research_2021_payment.loc[~df_research_2021_payment.covered_recipient_npi.isin(df_physicians.covered_recipient_npi)]\n",
        "df_new_physicians=df_new_physicians[df_new_physicians.covered_recipient_npi.notna()]\n",
        "df_new_physicians=df_new_physicians[[\"covered_recipient_profile_id\", \"covered_recipient_npi\",\"covered_recipient_first_name\",\"covered_recipient_middle_name\",\"covered_recipient_last_name\" ]]\n",
        "df_new_physicians=df_new_physicians.rename(columns={\"covered_recipient_first_name\": \"covered_recipient_profile_first_name\",\"covered_recipient_middle_name\": \"covered_recipient_profile_middle_name\",\"covered_recipient_last_name\": \"covered_recipient_profile_last_name\"})\n",
        "frames=[df_physicians,df_new_physicians]\n",
        "df_physicians=pd.concat(frames,ignore_index=True)\n",
        "\n",
        "#Part 2 from research_2021_payment Investigator 1\n",
        "df_new_physicians=df_research_2021_payment.loc[~df_research_2021_payment.principal_investigator_1_npi.isin(df_physicians.covered_recipient_npi)]\n",
        "df_new_physicians=df_new_physicians[df_new_physicians.principal_investigator_1_npi.notna()]\n",
        "df_new_physicians=df_new_physicians[[\"principal_investigator_1_profile_id\", \"principal_investigator_1_npi\",\"principal_investigator_1_first_name\",\"principal_investigator_1_middle_name\",\"principal_investigator_1_last_name\" ]]\n",
        "df_new_physicians=df_new_physicians.rename(columns={\"principal_investigator_1_profile_id\":\"covered_recipient_profile_id\",\"principal_investigator_1_npi\":\"covered_recipient_npi\",\"principal_investigator_1_first_name\": \"covered_recipient_profile_first_name\",\"principal_investigator_1_middle_name\": \"covered_recipient_profile_middle_name\",\"principal_investigator_1_last_name\": \"covered_recipient_profile_last_name\"})\n",
        "frames=[df_physicians,df_new_physicians]\n",
        "df_physicians=pd.concat(frames,ignore_index=True)\n",
        "\n",
        "#Part 3 from research_2021_payment Investigator 2\n",
        "df_new_physicians=df_research_2021_payment.loc[~df_research_2021_payment.principal_investigator_2_npi.isin(df_physicians.covered_recipient_npi)]\n",
        "df_new_physicians=df_new_physicians[df_new_physicians.principal_investigator_2_npi.notna()]\n",
        "df_new_physicians=df_new_physicians[[\"principal_investigator_2_profile_id\", \"principal_investigator_2_npi\",\"principal_investigator_2_first_name\",\"principal_investigator_2_middle_name\",\"principal_investigator_2_last_name\" ]]\n",
        "df_new_physicians=df_new_physicians.rename(columns={\"principal_investigator_2_profile_id\":\"covered_recipient_profile_id\",\"principal_investigator_2_npi\":\"covered_recipient_npi\",\"principal_investigator_2_first_name\": \"covered_recipient_profile_first_name\",\"principal_investigator_2_middle_name\": \"covered_recipient_profile_middle_name\",\"principal_investigator_2_last_name\": \"covered_recipient_profile_last_name\"})\n",
        "frames=[df_physicians,df_new_physicians]\n",
        "df_physicians=pd.concat(frames,ignore_index=True)\n",
        "\n",
        "#Part 4 from research_2021_payment Investigator 3\n",
        "df_new_physicians=df_research_2021_payment.loc[~df_research_2021_payment.principal_investigator_3_npi.isin(df_physicians.covered_recipient_npi)]\n",
        "df_new_physicians=df_new_physicians[df_new_physicians.principal_investigator_3_npi.notna()]\n",
        "df_new_physicians=df_new_physicians[[\"principal_investigator_3_profile_id\", \"principal_investigator_3_npi\",\"principal_investigator_3_first_name\",\"principal_investigator_3_middle_name\",\"principal_investigator_3_last_name\" ]]\n",
        "df_new_physicians=df_new_physicians.rename(columns={\"principal_investigator_3_profile_id\":\"covered_recipient_profile_id\",\"principal_investigator_3_npi\":\"covered_recipient_npi\",\"principal_investigator_3_first_name\": \"covered_recipient_profile_first_name\",\"principal_investigator_3_middle_name\": \"covered_recipient_profile_middle_name\",\"principal_investigator_3_last_name\": \"covered_recipient_profile_last_name\"})\n",
        "frames=[df_physicians,df_new_physicians]\n",
        "df_physicians=pd.concat(frames,ignore_index=True)\n",
        "\n",
        "\n",
        "#Part 5 from research_2021_payment Investigator 4\n",
        "df_new_physicians=df_research_2021_payment.loc[~df_research_2021_payment.principal_investigator_4_npi.isin(df_physicians.covered_recipient_npi)]\n",
        "df_new_physicians=df_new_physicians[df_new_physicians.principal_investigator_4_npi.notna()]\n",
        "df_new_physicians=df_new_physicians[[\"principal_investigator_4_profile_id\", \"principal_investigator_4_npi\",\"principal_investigator_4_first_name\",\"principal_investigator_4_middle_name\",\"principal_investigator_4_last_name\" ]]\n",
        "df_new_physicians=df_new_physicians.rename(columns={\"principal_investigator_4_profile_id\":\"covered_recipient_profile_id\",\"principal_investigator_4_npi\":\"covered_recipient_npi\",\"principal_investigator_4_first_name\": \"covered_recipient_profile_first_name\",\"principal_investigator_4_middle_name\": \"covered_recipient_profile_middle_name\",\"principal_investigator_4_last_name\": \"covered_recipient_profile_last_name\"})\n",
        "frames=[df_physicians,df_new_physicians]\n",
        "df_physicians=pd.concat(frames,ignore_index=True)\n",
        "\n",
        "\n",
        "#Part 6 from research_2021_payment Investigator 5\n",
        "df_new_physicians=df_research_2021_payment.loc[~df_research_2021_payment.principal_investigator_5_npi.isin(df_physicians.covered_recipient_npi)]\n",
        "df_new_physicians=df_new_physicians[df_new_physicians.principal_investigator_5_npi.notna()]\n",
        "df_new_physicians=df_new_physicians[[\"principal_investigator_5_profile_id\", \"principal_investigator_5_npi\",\"principal_investigator_5_first_name\",\"principal_investigator_5_middle_name\",\"principal_investigator_5_last_name\" ]]\n",
        "df_new_physicians=df_new_physicians.rename(columns={\"principal_investigator_5_profile_id\":\"covered_recipient_profile_id\",\"principal_investigator_5_npi\":\"covered_recipient_npi\",\"principal_investigator_5_first_name\": \"covered_recipient_profile_first_name\",\"principal_investigator_5_middle_name\": \"covered_recipient_profile_middle_name\",\"principal_investigator_5_last_name\": \"covered_recipient_profile_last_name\"})\n",
        "frames=[df_physicians,df_new_physicians]\n",
        "df_physicians=pd.concat(frames,ignore_index=True)\n",
        "df_physicians[\"id\"]=df_physicians.index+1\n"
      ]
    },
    {
      "cell_type": "code",
      "execution_count": null,
      "id": "57c7c9b2",
      "metadata": {
        "id": "57c7c9b2"
      },
      "outputs": [],
      "source": [
        "#####################Time Table##########\n",
        "#####################Time Table##########\n",
        "# Create empty dataframes for Date Dimension\n",
        "date_dimension = pd.DataFrame(columns=['id', 'full_date', 'day', 'month', 'year'])\n",
        "\n",
        "# Populate the Date Dimension dataframe\n",
        "start_date = datetime(2020, 1, 1)\n",
        "end_date = datetime(2025, 12, 31)\n",
        "\n",
        "current_date = start_date\n",
        "id = 1\n",
        "\n",
        "while current_date <= end_date:\n",
        "    full_date = current_date.strftime('%m/%d/%Y')\n",
        "    day = current_date.day\n",
        "    month = current_date.month\n",
        "    year = current_date.year\n",
        "\n",
        "    date_dimension = pd.concat([date_dimension, pd.DataFrame([[id, full_date, day, month, year]],\n",
        "                                                             columns=date_dimension.columns)])\n",
        "\n",
        "    current_date += timedelta(days=1)\n",
        "    id += 1"
      ]
    },
    {
      "cell_type": "code",
      "execution_count": null,
      "id": "c1c3c908",
      "metadata": {
        "id": "c1c3c908",
        "outputId": "4cd80f7e-5c9f-4ba9-94a2-074d774fce78",
        "colab": {
          "base_uri": "https://localhost:8080/",
          "height": 424
        }
      },
      "outputs": [
        {
          "output_type": "execute_result",
          "data": {
            "text/plain": [
              "      id   full_date day month  year\n",
              "0      1  01/01/2020   1     1  2020\n",
              "0      2  01/02/2020   2     1  2020\n",
              "0      3  01/03/2020   3     1  2020\n",
              "0      4  01/04/2020   4     1  2020\n",
              "0      5  01/05/2020   5     1  2020\n",
              "..   ...         ...  ..   ...   ...\n",
              "0   2188  12/27/2025  27    12  2025\n",
              "0   2189  12/28/2025  28    12  2025\n",
              "0   2190  12/29/2025  29    12  2025\n",
              "0   2191  12/30/2025  30    12  2025\n",
              "0   2192  12/31/2025  31    12  2025\n",
              "\n",
              "[2192 rows x 5 columns]"
            ],
            "text/html": [
              "\n",
              "  <div id=\"df-2bd1c148-5a48-4eed-ba27-14d9aedfdc5e\">\n",
              "    <div class=\"colab-df-container\">\n",
              "      <div>\n",
              "<style scoped>\n",
              "    .dataframe tbody tr th:only-of-type {\n",
              "        vertical-align: middle;\n",
              "    }\n",
              "\n",
              "    .dataframe tbody tr th {\n",
              "        vertical-align: top;\n",
              "    }\n",
              "\n",
              "    .dataframe thead th {\n",
              "        text-align: right;\n",
              "    }\n",
              "</style>\n",
              "<table border=\"1\" class=\"dataframe\">\n",
              "  <thead>\n",
              "    <tr style=\"text-align: right;\">\n",
              "      <th></th>\n",
              "      <th>id</th>\n",
              "      <th>full_date</th>\n",
              "      <th>day</th>\n",
              "      <th>month</th>\n",
              "      <th>year</th>\n",
              "    </tr>\n",
              "  </thead>\n",
              "  <tbody>\n",
              "    <tr>\n",
              "      <th>0</th>\n",
              "      <td>1</td>\n",
              "      <td>01/01/2020</td>\n",
              "      <td>1</td>\n",
              "      <td>1</td>\n",
              "      <td>2020</td>\n",
              "    </tr>\n",
              "    <tr>\n",
              "      <th>0</th>\n",
              "      <td>2</td>\n",
              "      <td>01/02/2020</td>\n",
              "      <td>2</td>\n",
              "      <td>1</td>\n",
              "      <td>2020</td>\n",
              "    </tr>\n",
              "    <tr>\n",
              "      <th>0</th>\n",
              "      <td>3</td>\n",
              "      <td>01/03/2020</td>\n",
              "      <td>3</td>\n",
              "      <td>1</td>\n",
              "      <td>2020</td>\n",
              "    </tr>\n",
              "    <tr>\n",
              "      <th>0</th>\n",
              "      <td>4</td>\n",
              "      <td>01/04/2020</td>\n",
              "      <td>4</td>\n",
              "      <td>1</td>\n",
              "      <td>2020</td>\n",
              "    </tr>\n",
              "    <tr>\n",
              "      <th>0</th>\n",
              "      <td>5</td>\n",
              "      <td>01/05/2020</td>\n",
              "      <td>5</td>\n",
              "      <td>1</td>\n",
              "      <td>2020</td>\n",
              "    </tr>\n",
              "    <tr>\n",
              "      <th>...</th>\n",
              "      <td>...</td>\n",
              "      <td>...</td>\n",
              "      <td>...</td>\n",
              "      <td>...</td>\n",
              "      <td>...</td>\n",
              "    </tr>\n",
              "    <tr>\n",
              "      <th>0</th>\n",
              "      <td>2188</td>\n",
              "      <td>12/27/2025</td>\n",
              "      <td>27</td>\n",
              "      <td>12</td>\n",
              "      <td>2025</td>\n",
              "    </tr>\n",
              "    <tr>\n",
              "      <th>0</th>\n",
              "      <td>2189</td>\n",
              "      <td>12/28/2025</td>\n",
              "      <td>28</td>\n",
              "      <td>12</td>\n",
              "      <td>2025</td>\n",
              "    </tr>\n",
              "    <tr>\n",
              "      <th>0</th>\n",
              "      <td>2190</td>\n",
              "      <td>12/29/2025</td>\n",
              "      <td>29</td>\n",
              "      <td>12</td>\n",
              "      <td>2025</td>\n",
              "    </tr>\n",
              "    <tr>\n",
              "      <th>0</th>\n",
              "      <td>2191</td>\n",
              "      <td>12/30/2025</td>\n",
              "      <td>30</td>\n",
              "      <td>12</td>\n",
              "      <td>2025</td>\n",
              "    </tr>\n",
              "    <tr>\n",
              "      <th>0</th>\n",
              "      <td>2192</td>\n",
              "      <td>12/31/2025</td>\n",
              "      <td>31</td>\n",
              "      <td>12</td>\n",
              "      <td>2025</td>\n",
              "    </tr>\n",
              "  </tbody>\n",
              "</table>\n",
              "<p>2192 rows × 5 columns</p>\n",
              "</div>\n",
              "      <button class=\"colab-df-convert\" onclick=\"convertToInteractive('df-2bd1c148-5a48-4eed-ba27-14d9aedfdc5e')\"\n",
              "              title=\"Convert this dataframe to an interactive table.\"\n",
              "              style=\"display:none;\">\n",
              "        \n",
              "  <svg xmlns=\"http://www.w3.org/2000/svg\" height=\"24px\"viewBox=\"0 0 24 24\"\n",
              "       width=\"24px\">\n",
              "    <path d=\"M0 0h24v24H0V0z\" fill=\"none\"/>\n",
              "    <path d=\"M18.56 5.44l.94 2.06.94-2.06 2.06-.94-2.06-.94-.94-2.06-.94 2.06-2.06.94zm-11 1L8.5 8.5l.94-2.06 2.06-.94-2.06-.94L8.5 2.5l-.94 2.06-2.06.94zm10 10l.94 2.06.94-2.06 2.06-.94-2.06-.94-.94-2.06-.94 2.06-2.06.94z\"/><path d=\"M17.41 7.96l-1.37-1.37c-.4-.4-.92-.59-1.43-.59-.52 0-1.04.2-1.43.59L10.3 9.45l-7.72 7.72c-.78.78-.78 2.05 0 2.83L4 21.41c.39.39.9.59 1.41.59.51 0 1.02-.2 1.41-.59l7.78-7.78 2.81-2.81c.8-.78.8-2.07 0-2.86zM5.41 20L4 18.59l7.72-7.72 1.47 1.35L5.41 20z\"/>\n",
              "  </svg>\n",
              "      </button>\n",
              "      \n",
              "  <style>\n",
              "    .colab-df-container {\n",
              "      display:flex;\n",
              "      flex-wrap:wrap;\n",
              "      gap: 12px;\n",
              "    }\n",
              "\n",
              "    .colab-df-convert {\n",
              "      background-color: #E8F0FE;\n",
              "      border: none;\n",
              "      border-radius: 50%;\n",
              "      cursor: pointer;\n",
              "      display: none;\n",
              "      fill: #1967D2;\n",
              "      height: 32px;\n",
              "      padding: 0 0 0 0;\n",
              "      width: 32px;\n",
              "    }\n",
              "\n",
              "    .colab-df-convert:hover {\n",
              "      background-color: #E2EBFA;\n",
              "      box-shadow: 0px 1px 2px rgba(60, 64, 67, 0.3), 0px 1px 3px 1px rgba(60, 64, 67, 0.15);\n",
              "      fill: #174EA6;\n",
              "    }\n",
              "\n",
              "    [theme=dark] .colab-df-convert {\n",
              "      background-color: #3B4455;\n",
              "      fill: #D2E3FC;\n",
              "    }\n",
              "\n",
              "    [theme=dark] .colab-df-convert:hover {\n",
              "      background-color: #434B5C;\n",
              "      box-shadow: 0px 1px 3px 1px rgba(0, 0, 0, 0.15);\n",
              "      filter: drop-shadow(0px 1px 2px rgba(0, 0, 0, 0.3));\n",
              "      fill: #FFFFFF;\n",
              "    }\n",
              "  </style>\n",
              "\n",
              "      <script>\n",
              "        const buttonEl =\n",
              "          document.querySelector('#df-2bd1c148-5a48-4eed-ba27-14d9aedfdc5e button.colab-df-convert');\n",
              "        buttonEl.style.display =\n",
              "          google.colab.kernel.accessAllowed ? 'block' : 'none';\n",
              "\n",
              "        async function convertToInteractive(key) {\n",
              "          const element = document.querySelector('#df-2bd1c148-5a48-4eed-ba27-14d9aedfdc5e');\n",
              "          const dataTable =\n",
              "            await google.colab.kernel.invokeFunction('convertToInteractive',\n",
              "                                                     [key], {});\n",
              "          if (!dataTable) return;\n",
              "\n",
              "          const docLinkHtml = 'Like what you see? Visit the ' +\n",
              "            '<a target=\"_blank\" href=https://colab.research.google.com/notebooks/data_table.ipynb>data table notebook</a>'\n",
              "            + ' to learn more about interactive tables.';\n",
              "          element.innerHTML = '';\n",
              "          dataTable['output_type'] = 'display_data';\n",
              "          await google.colab.output.renderOutput(dataTable, element);\n",
              "          const docLink = document.createElement('div');\n",
              "          docLink.innerHTML = docLinkHtml;\n",
              "          element.appendChild(docLink);\n",
              "        }\n",
              "      </script>\n",
              "    </div>\n",
              "  </div>\n",
              "  "
            ]
          },
          "metadata": {},
          "execution_count": 13
        }
      ],
      "source": [
        "date_dimension"
      ]
    },
    {
      "cell_type": "code",
      "execution_count": null,
      "id": "84178831",
      "metadata": {
        "id": "84178831"
      },
      "outputs": [],
      "source": [
        "################State table#########################\n",
        "################State table#########################\n",
        "states_abb = [ 'AK', 'AL', 'AR', 'AZ', 'CA', 'CO', 'CT', 'DC', 'DE', 'FL', 'GA',\n",
        "           'HI', 'IA', 'ID', 'IL', 'IN', 'KS', 'KY', 'LA', 'MA', 'MD', 'ME',\n",
        "           'MI', 'MN', 'MO', 'MS', 'MT', 'NC', 'ND', 'NE', 'NH', 'NJ', 'NM',\n",
        "           'NV', 'NY', 'OH', 'OK', 'OR', 'PA', 'RI', 'SC', 'SD', 'TN', 'TX',\n",
        "           'UT', 'VA', 'VT', 'WA', 'WI', 'WV', 'WY']\n",
        "\n",
        "states = {\n",
        "    'AK': 'Alaska',\n",
        "    'AL': 'Alabama',\n",
        "    'AR': 'Arkansas',\n",
        "    'AZ': 'Arizona',\n",
        "    'CA': 'California',\n",
        "    'CO': 'Colorado',\n",
        "    'CT': 'Connecticut',\n",
        "    'DC': 'District of Columbia',\n",
        "    'DE': 'Delaware',\n",
        "    'FL': 'Florida',\n",
        "    'GA': 'Georgia',\n",
        "    'HI': 'Hawaii',\n",
        "    'IA': 'Iowa',\n",
        "    'ID': 'Idaho',\n",
        "    'IL': 'Illinois',\n",
        "    'IN': 'Indiana',\n",
        "    'KS': 'Kansas',\n",
        "    'KY': 'Kentucky',\n",
        "    'LA': 'Louisiana',\n",
        "    'MA': 'Massachusetts',\n",
        "    'MD': 'Maryland',\n",
        "    'ME': 'Maine',\n",
        "    'MI': 'Michigan',\n",
        "    'MN': 'Minnesota',\n",
        "    'MO': 'Missouri',\n",
        "    'MS': 'Mississippi',\n",
        "    'MT': 'Montana',\n",
        "    'NC': 'North Carolina',\n",
        "    'ND': 'North Dakota',\n",
        "    'NE': 'Nebraska',\n",
        "    'NH': 'New Hampshire',\n",
        "    'NJ': 'New Jersey',\n",
        "    'NM': 'New Mexico',\n",
        "    'NV': 'Nevada',\n",
        "    'NY': 'New York',\n",
        "    'OH': 'Ohio',\n",
        "    'OK': 'Oklahoma',\n",
        "    'OR': 'Oregon',\n",
        "    'PA': 'Pennsylvania',\n",
        "    'RI': 'Rhode Island',\n",
        "    'SC': 'South Carolina',\n",
        "    'SD': 'South Dakota',\n",
        "    'TN': 'Tennessee',\n",
        "    'TX': 'Texas',\n",
        "    'UT': 'Utah',\n",
        "    'VA': 'Virginia',\n",
        "    'VT': 'Vermont',\n",
        "    'WA': 'Washington',\n",
        "    'WI': 'Wisconsin',\n",
        "    'WV': 'West Virginia',\n",
        "    'WY': 'Wyoming'\n",
        "}\n",
        "\n",
        "df_states=pd.DataFrame({\"Id\": range(1,len(states_abb)+1),\"Code\": states_abb,\"Name\": states.values()} )"
      ]
    },
    {
      "cell_type": "code",
      "execution_count": null,
      "id": "0efb5fd1",
      "metadata": {
        "id": "0efb5fd1"
      },
      "outputs": [],
      "source": [
        "##################################################\n",
        "###############City table#########################\n",
        "##################################################\n",
        "#print(df_general_2020_payment[\"recipient_city\"])\n",
        "#print(df_general_2020_payment[[\"recipient_city\",\"recipient_state\"]])\n",
        "\n",
        "df_cities=pd.DataFrame(columns=[\"recipient_city\",\"State_code\"])\n",
        "\n",
        "df_temp=df_general_2020_payment[~df_general_2020_payment[[\"recipient_city\",\"recipient_state\"]].isin(df_cities[[\"recipient_city\",\"State_code\" ]])][[\"recipient_city\",\"recipient_state\"]].drop_duplicates().rename(columns={\"recipient_city\": \"recipient_city\",\"recipient_state\":\"State_code\"})\n",
        "frames=[df_cities,df_temp[df_temp.recipient_city.notna()]]\n",
        "df_cities=pd.concat(frames,ignore_index=True)\n",
        "\n",
        "#df_cities[\"id2\"]=df_cities.index+1\n",
        "df_cities[\"recipient_city\"]=df_cities[\"recipient_city\"].str.title()\n",
        "\n",
        "# Merging the dataframes\n",
        "df_merged = pd.merge(df_cities, df_states[['Id','Code']], left_on='State_code', right_on='Code', how='left').drop(['State_code','Code'], axis=1).rename(columns={'recipient_city': 'name', 'Id':'state_id'})\n",
        "\n",
        "# Proper case for the city name\n",
        "#df_merged['name'] = df_merged['name'].str.title()\n",
        "df_merged=  df_merged[df_merged.state_id.notna()]\n",
        "df_cities=df_merged\n",
        "df_cities[\"id\"]=df_cities.index+1"
      ]
    },
    {
      "cell_type": "code",
      "execution_count": null,
      "id": "fd24aedc",
      "metadata": {
        "id": "fd24aedc"
      },
      "outputs": [],
      "source": [
        "#####################Cover Recipient Type Table##########\n",
        "df_cover_recipient_type = pd.DataFrame(columns=[\"Name\"]).astype({\"Name\": str})\n",
        "dataframes = [df_general_2020_payment, df_general_2021_payment, df_research_2020_payment, df_research_2021_payment]\n",
        "\n",
        "for df in dataframes:\n",
        "    df_temp = df.loc[~df.covered_recipient_type.isin(df_cover_recipient_type.Name), [\"covered_recipient_type\"]].drop_duplicates().rename(columns={\"covered_recipient_type\": \"Name\"})\n",
        "    df_cover_recipient_type = pd.concat([df_cover_recipient_type, df_temp[df_temp.Name.notna()]], ignore_index=True)\n",
        "\n",
        "df_cover_recipient_type[\"Id\"] = df_cover_recipient_type.index + 1"
      ]
    },
    {
      "cell_type": "code",
      "execution_count": null,
      "id": "95a0c261",
      "metadata": {
        "id": "95a0c261"
      },
      "outputs": [],
      "source": [
        "#####################Specialty Table################\n",
        "specialties_list = []\n",
        "\n",
        "general_2020_raw=df_general_2020_payment\n",
        "general_2020_raw['covered_recipient_specialty_1'].drop_duplicates().dropna().apply(lambda x: specialties_list.extend(x.split(\"|\")))\n",
        "\n",
        "general_2021_raw=df_general_2021_payment\n",
        "general_2021_raw['covered_recipient_specialty_1'].drop_duplicates().dropna().apply(lambda x: specialties_list.extend(x.split(\"|\")))\n",
        "\n",
        "ownership_2020_raw=df_ownership_2020_payment\n",
        "df_ownership_2020_payment['physician_specialty'].drop_duplicates().dropna().apply(lambda x: specialties_list.extend(x.split(\"|\")))\n",
        "\n",
        "ownership_2021_raw=df_ownership_2021_payment\n",
        "df_ownership_2021_payment['physician_specialty'].drop_duplicates().dropna().apply(lambda x: specialties_list.extend(x.split(\"|\")))\n",
        "\n",
        "\n",
        "columns_of_interest = [\"principal_investigator_1_specialty_1\", \"covered_recipient_specialty_1\", \"principal_investigator_2_specialty_1\", \"principal_investigator_3_specialty_1\", \"principal_investigator_4_specialty_1\", \"principal_investigator_5_specialty_1\"]\n",
        "research_2020_raw=df_research_2020_payment\n",
        "for column in columns_of_interest:\n",
        "    research_2020_raw[column].drop_duplicates().dropna().apply(lambda x: specialties_list.extend(x.split(\"|\")))\n",
        "\n",
        "\n",
        "research_2021_raw=df_research_2021_payment\n",
        "for column in columns_of_interest:\n",
        "    research_2021_raw[column].drop_duplicates().dropna().apply(lambda x: specialties_list.extend(x.split(\"|\")))\n",
        "\n",
        "\n",
        "\n",
        "specialties_list = list(set(specialties_list))\n",
        "df_specialties = pd.DataFrame({\"Name\": specialties_list})\n",
        "df_specialties.Name=df_specialties.Name.str.title()\n",
        "df_specialties[\"Id\"]=df_specialties.index+1"
      ]
    },
    {
      "cell_type": "code",
      "execution_count": null,
      "id": "e214ce0d",
      "metadata": {
        "id": "e214ce0d",
        "colab": {
          "base_uri": "https://localhost:8080/"
        },
        "outputId": "7627b05c-d116-459e-f396-98b1f0eb8fae"
      },
      "outputs": [
        {
          "output_type": "stream",
          "name": "stdout",
          "text": [
            "['diabetes', 'cardiovascular;metabolic disease', 'negative pressure wound therapy', 'ophthalmology', 'orthopedics', 'hiv', 'neuroscience;tobacco dependence', 'respiratory', 'diabetes', 'oncology', 'ablation', 'cardiovascular', 'immunology', 'cardiac arrhythmias and heart failure', 'gastrointestinal;inflammation;ophthalmology;transplant', 'neuroscience', 'cardiology', 'respiratory', 'cardiovascular', 'neurology', 'inflammation', 'neurology', 'cardiovascular and metabolism', 'endocrinology', 'catheters', 'gastroenterology', 'infectious disease', 'neuroscience', 'hyperhydrosis', 'renal', 'immunology', 'bone health', 'oncology', 'central nervous system', 'sleep', 'adhd', 'cardiovascular & metabolism', 'nox - bone void filler synthetic, peptide enhanced bone graft', 'orthopedic product', 'transcatheter valve systems', 'dental anaesthetic', 'miscellaneous vaginal agent', 'dental', 'dental implant', 'cardiac resynchronization therapy (crt)', 'dermatology', 'endocrinology', 'cns', 'neurological disorders', 'pulmonaryrespiratory diseases', 'genitourinary (urology)', 'ophthalmology', 'spinal implant', 'hormone replacement therapy', 'endo-mechanical', 'internal medicine', 'carotid artery disease', 'rosacea', 'ortho-hip', 'cardiology/vascular diseases', 'oral contraceptive', 'leads', 'urology', 'vaccine', 'spinal cord neurostimulation', 'obesity', 'other advanced wound management', 'antilipemic agents', 'obesity', 'vascular', 'krystexxa', 'hypoactive sexual desire disorder hsdd', 'wound care', 'opioid analgesic', 'spinal cord stimulator', 'psychiatry', 'xenosure', 'ablation system', 'cardiovascular', 'orthopedics', 'dermatology', 'diabetes', 'cardiology', 'bone health', 'oncology', 'immunology', 'dental implant', 'oncology', 'endocrinology', 'pulmonaryrespiratory diseases', 'endo-mechanical', 'cns', 'carotid artery disease', 'rosacea', 'neurology', 'ortho-knee', 'respiratory', 'neuroscience', 'neuroscience', 'vaccine', 'reduction of risk for preterm birth', 'neurology', 'hysteroscopic thermal ablation device', 'orthopedics', 'gastrointestinal', 'oncology', 'cardiology', 'endocrinology', 'energy', 'cns', 'carotid artery disease', 'neurology', 'respiratory', 'treatment of dyspareunia', 'tissue removal', 'orthopedics', 'oncology', 'endocrinology', 'cns', 'carotid artery disease', 'tissue resection device', 'orthopedics', 'cns']\n"
          ]
        }
      ],
      "source": [
        "#####################category Product_Therapeutic Table##########\n",
        "product_categories=[]\n",
        "columns_of_interest = [\"product_category_or_therapeutic_area_1\", \"product_category_or_therapeutic_area_2\", \"product_category_or_therapeutic_area_3\", \"product_category_or_therapeutic_area_4\", \"product_category_or_therapeutic_area_5\"]\n",
        "\n",
        "for column in columns_of_interest:\n",
        "    general_2020_raw=df_general_2020_payment\n",
        "    general_2020_raw[column].drop_duplicates().dropna().apply(lambda x: product_categories.append((x.lower())))\n",
        "\n",
        "print(product_categories)\n",
        "\n",
        "for column in columns_of_interest:\n",
        "    general_2021_raw=df_general_2021_payment\n",
        "    general_2021_raw[column].drop_duplicates().dropna().apply(lambda x: product_categories.append((x.lower())))\n",
        "\n",
        "\n",
        "for column in columns_of_interest:\n",
        "    research_2020_raw=df_research_2020_payment\n",
        "    research_2020_raw[column].drop_duplicates().dropna().apply(lambda x: product_categories.append((x.lower())))\n",
        "\n",
        "for column in columns_of_interest:\n",
        "    research_2021_raw=df_research_2021_payment\n",
        "    research_2021_raw[column].drop_duplicates().dropna().apply(lambda x: product_categories.append((x.lower())))\n",
        "\n",
        "\n",
        "product_categories=list(set(product_categories))\n",
        "df_product_categories = pd.DataFrame({\"Name\": product_categories})\n",
        "df_product_categories[\"Id\"]=df_product_categories.index+1"
      ]
    },
    {
      "cell_type": "code",
      "execution_count": null,
      "id": "32fbdeb0",
      "metadata": {
        "id": "32fbdeb0"
      },
      "outputs": [],
      "source": [
        "#####################Hospital Table##########\n",
        "df_hospitals=pd.DataFrame(columns=[\"Name\",\"teaching_hospital_ccn\",\"teaching_hospital_id\"])\n",
        "\n",
        "df_temp=df_general_2020_payment[~df_general_2020_payment[[\"teaching_hospital_name\",\"teaching_hospital_ccn\",\"teaching_hospital_id\"]].isin(df_hospitals[[\"Name\",\"teaching_hospital_ccn\",\"teaching_hospital_id\"]])][[\"teaching_hospital_name\",\"teaching_hospital_ccn\",\"teaching_hospital_id\"]].drop_duplicates().rename(columns={\"teaching_hospital_name\": \"Name\",\"teaching_hospital_ccn\": \"teaching_hospital_ccn\",\"teaching_hospital_id\": \"teaching_hospital_id\"})\n",
        "frames=[df_hospitals,df_temp[df_temp.teaching_hospital_ccn.notna()]]\n",
        "df_hospitals=pd.concat(frames,ignore_index=True)\n",
        "\n",
        "df_temp=df_general_2021_payment[~df_general_2021_payment[[\"teaching_hospital_name\",\"teaching_hospital_ccn\",\"teaching_hospital_id\"]].isin(df_hospitals[[\"Name\",\"teaching_hospital_ccn\",\"teaching_hospital_id\"]])][[\"teaching_hospital_name\",\"teaching_hospital_ccn\",\"teaching_hospital_id\"]].drop_duplicates().rename(columns={\"teaching_hospital_name\": \"Name\",\"teaching_hospital_ccn\": \"teaching_hospital_ccn\",\"teaching_hospital_id\": \"teaching_hospital_id\"})\n",
        "frames=[df_hospitals,df_temp[df_temp.teaching_hospital_ccn.notna()]]\n",
        "df_hospitals=pd.concat(frames,ignore_index=True)\n",
        "\n",
        "df_temp=df_research_2020_payment[~df_research_2020_payment[[\"teaching_hospital_name\",\"teaching_hospital_ccn\",\"teaching_hospital_id\"]].isin(df_hospitals[[\"Name\",\"teaching_hospital_ccn\",\"teaching_hospital_id\"]])][[\"teaching_hospital_name\",\"teaching_hospital_ccn\",\"teaching_hospital_id\"]].drop_duplicates().rename(columns={\"teaching_hospital_name\": \"Name\",\"teaching_hospital_ccn\": \"teaching_hospital_ccn\",\"teaching_hospital_id\": \"teaching_hospital_id\"})\n",
        "frames=[df_hospitals,df_temp[df_temp.teaching_hospital_ccn.notna()]]\n",
        "df_hospitals=pd.concat(frames,ignore_index=True)\n",
        "\n",
        "df_temp=df_research_2021_payment[~df_research_2021_payment[[\"teaching_hospital_name\",\"teaching_hospital_ccn\",\"teaching_hospital_id\"]].isin(df_hospitals[[\"Name\",\"teaching_hospital_ccn\",\"teaching_hospital_id\"]])][[\"teaching_hospital_name\",\"teaching_hospital_ccn\",\"teaching_hospital_id\"]].drop_duplicates().rename(columns={\"teaching_hospital_name\": \"Name\",\"teaching_hospital_ccn\": \"teaching_hospital_ccn\",\"teaching_hospital_id\": \"teaching_hospital_id\"})\n",
        "frames=[df_hospitals,df_temp[df_temp.teaching_hospital_ccn.notna()]]\n",
        "df_hospitals=pd.concat(frames,ignore_index=True)\n",
        "df_hospitals = df_hospitals.astype({\"Name\": str, \"teaching_hospital_ccn\": int,\"teaching_hospital_id\": int})\n",
        "df_hospitals[\"Id\"]=df_hospitals.index+1"
      ]
    },
    {
      "cell_type": "code",
      "execution_count": null,
      "id": "b99add15",
      "metadata": {
        "id": "b99add15"
      },
      "outputs": [],
      "source": [
        "###################Payment Table####################\n",
        "df_cities_full= pd.merge(df_cities,df_states,left_on=\"state_id\",right_on=\"Id\").rename(columns={\"id\":\"city_id\", \"name\":\"recipient_city\", \"Name\":\"recipient_state\"})\n",
        "\n",
        "def merge_and_rename_dataframes(left_df, right_df, merge_columns, rename_columns):\n",
        "    merged_df = pd.merge(left_df, right_df, left_on=merge_columns[0], right_on=merge_columns[1])\n",
        "    renamed_df = merged_df.rename(columns=rename_columns)\n",
        "    return renamed_df\n",
        "\n",
        "\n",
        "dataframes = [df_general_2020_payment, df_general_2021_payment, df_research_2020_payment, df_research_2021_payment]\n",
        "df_payment = pd.DataFrame(columns=[\"city_id\", \"amount\", \"covered_recipient_type_id\", \"date_id\"])\n",
        "\n",
        "for df in dataframes:\n",
        "    merged_df = merge_and_rename_dataframes(df, df_cities_full, [\"recipient_city\", \"recipient_state\"], {\"total_amount_of_payment_usdollars\": \"amount\"})\n",
        "    merged_df = merge_and_rename_dataframes(merged_df, df_cover_recipient_type, [\"covered_recipient_type\", \"Name\"], {\"Id_y\": \"covered_recipient_type_id\"})\n",
        "    merged_df = merge_and_rename_dataframes(merged_df, date_dimension, [\"date_of_payment\", \"full_date\"], {\"id\": \"date_id\"})\n",
        "    df_payment = pd.concat([df_payment, merged_df[[\"city_id\", \"amount\", \"covered_recipient_type_id\", \"date_id\"]]])\n",
        "\n",
        "df_payment[\"Id\"] = df_payment.index + 1"
      ]
    },
    {
      "cell_type": "code",
      "source": [
        "###################Original Payment Table####################\n",
        "df_cities_full= pd.merge(df_cities,df_states,left_on=\"state_id\",right_on=\"Id\").rename(columns={\"id\":\"city_id\" })\n",
        "\n",
        "###df_general_2020_payment\n",
        "df_payment= pd.merge(df_general_2020_payment,df_cities_full,left_on=[\"recipient_city\",\"recipient_state\"],right_on=[\"name\",\"Code\" ])\n",
        "df_payment=df_payment.rename(columns={\"total_amount_of_payment_usdollars\":\"amount\"})\n",
        "\n",
        "df_payment= pd.merge(df_payment,df_cover_recipient_type,left_on=\"covered_recipient_type\",right_on=\"Name\")\n",
        "df_payment=df_payment.rename(columns={\"Id_y\":\"covered_recipient_type_id\"})\n",
        "\n",
        "df_payment= pd.merge(df_payment,date_dimension,left_on=\"date_of_payment\",right_on=\"full_date\")\n",
        "df_payment=df_payment.rename(columns={\"id\":\"date_id\"})\n",
        "df_payment=df_payment[[\"city_id\",\"amount\",\"covered_recipient_type_id\",\"date_id\",\"specialties\",\"physicians_npi\",\"teaching_hospital_ccn\",\"category_products\"]]\n",
        "\n",
        "#df_general_2021_payment\n",
        "df_payment_2= pd.merge(df_general_2021_payment,df_cities_full,left_on=[\"recipient_city\",\"recipient_state\"],right_on=[\"name\",\"Code\" ])\n",
        "df_payment_2=df_payment_2.rename(columns={\"total_amount_of_payment_usdollars\":\"amount\"})\n",
        "\n",
        "df_payment_2= pd.merge(df_payment_2,df_cover_recipient_type,left_on=\"covered_recipient_type\",right_on=\"Name\")\n",
        "df_payment_2=df_payment_2.rename(columns={\"Id_y\":\"covered_recipient_type_id\"})\n",
        "\n",
        "df_payment_2= pd.merge(df_payment_2,date_dimension,left_on=\"date_of_payment\",right_on=\"full_date\")\n",
        "df_payment_2=df_payment_2.rename(columns={\"id\":\"date_id\"})\n",
        "df_payment_2=df_payment_2[[\"city_id\",\"amount\",\"covered_recipient_type_id\",\"date_id\",\"specialties\",\"physicians_npi\",\"teaching_hospital_ccn\",\"category_products\"]]\n",
        "frames=[df_payment,df_payment_2]\n",
        "df_payment=pd.concat(frames,ignore_index=True)\n",
        "\n",
        "\n",
        "#df_research_2020_payment\n",
        "df_payment_2= pd.merge(df_research_2020_payment,df_cities_full,left_on=[\"recipient_city\",\"recipient_state\"],right_on=[\"name\",\"Code\" ])\n",
        "df_payment_2=df_payment_2.rename(columns={\"total_amount_of_payment_usdollars\":\"amount\"})\n",
        "\n",
        "df_payment_2= pd.merge(df_payment_2,df_cover_recipient_type,left_on=\"covered_recipient_type\",right_on=\"Name\")\n",
        "df_payment_2=df_payment_2.rename(columns={\"Id_y\":\"covered_recipient_type_id\"})\n",
        "\n",
        "df_payment_2= pd.merge(df_payment_2,date_dimension,left_on=\"date_of_payment\",right_on=\"full_date\")\n",
        "df_payment_2=df_payment_2.rename(columns={\"id\":\"date_id\"})\n",
        "df_payment_2=df_payment_2[[\"city_id\",\"amount\",\"covered_recipient_type_id\",\"date_id\",\"specialties\",\"physicians_npi\",\"teaching_hospital_ccn\",\"category_products\"]]\n",
        "frames=[df_payment,df_payment_2]\n",
        "df_payment=pd.concat(frames,ignore_index=True)\n",
        "\n",
        "#df_research_2021_payment\n",
        "df_payment_2= pd.merge(df_research_2021_payment,df_cities_full,left_on=[\"recipient_city\",\"recipient_state\"],right_on=[\"name\",\"Code\" ])\n",
        "df_payment_2=df_payment_2.rename(columns={\"total_amount_of_payment_usdollars\":\"amount\"})\n",
        "\n",
        "df_payment_2= pd.merge(df_payment_2,df_cover_recipient_type,left_on=\"covered_recipient_type\",right_on=\"Name\")\n",
        "df_payment_2=df_payment_2.rename(columns={\"Id_y\":\"covered_recipient_type_id\"})\n",
        "\n",
        "df_payment_2= pd.merge(df_payment_2,date_dimension,left_on=\"date_of_payment\",right_on=\"full_date\")\n",
        "df_payment_2=df_payment_2.rename(columns={\"id\":\"date_id\"})\n",
        "df_payment_2=df_payment_2[[\"city_id\",\"amount\",\"covered_recipient_type_id\",\"date_id\",\"specialties\",\"physicians_npi\",\"teaching_hospital_ccn\",\"category_products\"]]\n",
        "frames=[df_payment,df_payment_2]\n",
        "df_payment=pd.concat(frames,ignore_index=True)\n",
        "df_payment[\"Id\"]=df_payment.index+1\n"
      ],
      "metadata": {
        "id": "ZrlTiRivY5_O"
      },
      "id": "ZrlTiRivY5_O",
      "execution_count": null,
      "outputs": []
    },
    {
      "cell_type": "code",
      "source": [],
      "metadata": {
        "id": "kHdYlWJdoT_K"
      },
      "id": "kHdYlWJdoT_K",
      "execution_count": null,
      "outputs": []
    },
    {
      "cell_type": "code",
      "execution_count": null,
      "id": "17ab7790",
      "metadata": {
        "id": "17ab7790"
      },
      "outputs": [],
      "source": [
        "#####################Specialty Payment Table################\n",
        "\n",
        "df_payment_exploded_specialties=df_payment.explode('specialties')\n",
        "df_payment_exploded_specialties=df_payment_exploded_specialties[df_payment_exploded_specialties.specialties.notna()]\n",
        "df_payment_exploded_specialties=df_payment_exploded_specialties[df_payment_exploded_specialties.specialties!=\"\"]\n",
        "df_payment_exploded_specialties = df_payment_exploded_specialties.rename(columns={\"Id\":\"payment_id\"})\n",
        "\n",
        "df_payment_exploded_specialties.specialties=df_payment_exploded_specialties.specialties.str.title()\n",
        "specialty_payment=pd.merge(df_payment_exploded_specialties,df_specialties,left_on=\"specialties\",right_on=\"Name\").rename(columns={\"Id\":\"specialty_id\"})[[ \"specialty_id\",\"payment_id\"]].sort_values(\"payment_id\")"
      ]
    },
    {
      "cell_type": "code",
      "source": [
        "print(specialty_payment)"
      ],
      "metadata": {
        "colab": {
          "base_uri": "https://localhost:8080/"
        },
        "id": "asBXB3loMj6f",
        "outputId": "94a53a03-eeae-4fe9-a9a3-93bf1ee96665"
      },
      "id": "asBXB3loMj6f",
      "execution_count": null,
      "outputs": [
        {
          "output_type": "stream",
          "name": "stdout",
          "text": [
            "     specialty_id  payment_id\n",
            "0              40           1\n",
            "170            57           1\n",
            "12             41           1\n",
            "173            12           2\n",
            "13             41           2\n",
            "..            ...         ...\n",
            "168            41         171\n",
            "431            26         171\n",
            "443            91         171\n",
            "169            41         172\n",
            "340           127         172\n",
            "\n",
            "[455 rows x 2 columns]\n"
          ]
        }
      ]
    },
    {
      "cell_type": "code",
      "execution_count": null,
      "id": "0c5fed7a",
      "metadata": {
        "id": "0c5fed7a",
        "colab": {
          "base_uri": "https://localhost:8080/"
        },
        "outputId": "ee966dcb-4f9d-4a2b-931f-42bd6da3bb2e"
      },
      "outputs": [
        {
          "output_type": "stream",
          "name": "stdout",
          "text": [
            "     payment_id  hospital_id\n",
            "0            61            3\n",
            "1            66            3\n",
            "2            67            5\n",
            "3            67            6\n",
            "4            67          167\n",
            "..          ...          ...\n",
            "280         162          183\n",
            "281         163          190\n",
            "282         164          194\n",
            "283         167          201\n",
            "284         168          201\n",
            "\n",
            "[285 rows x 2 columns]\n"
          ]
        }
      ],
      "source": [
        "#####################Hospital Payments Table##########\n",
        "\n",
        "hospital_payment=pd.merge(df_payment,df_hospitals,on=\"teaching_hospital_ccn\").rename(columns={\"Id_x\":\"payment_id\",\"Id_y\":\"hospital_id\"})[[\"payment_id\",\"hospital_id\"]]\n",
        "\n",
        "print(hospital_payment)"
      ]
    },
    {
      "cell_type": "code",
      "execution_count": null,
      "id": "6c5b7846",
      "metadata": {
        "id": "6c5b7846"
      },
      "outputs": [],
      "source": [
        "#####################category Product_Therapeutic Payment Table##########\n",
        "df_payment_exploded_category=df_payment.explode('category_products')\n",
        "df_payment_exploded_category=df_payment_exploded_category[df_payment_exploded_category.category_products.notna()]\n",
        "df_payment_exploded_category=df_payment_exploded_category[df_payment_exploded_category.category_products!=\"\"]\n",
        "df_payment_exploded_category = df_payment_exploded_category.rename(columns={\"Id\":\"payment_id\"})\n",
        "\n",
        "df_payment_exploded_category.category_products=df_payment_exploded_category.category_products.str.lower()\n",
        "category_product_therapeutic_area_payment=pd.merge(df_payment_exploded_category,df_product_categories,left_on=\"category_products\",right_on=\"Name\").rename(columns={\"Id\":\"category_product_therapeutic_area_id\"})[[ \"category_product_therapeutic_area_id\",\"payment_id\"]].sort_values(\"payment_id\")\n",
        "#print(category_product_therapeutic_area_payment)"
      ]
    },
    {
      "cell_type": "code",
      "execution_count": null,
      "id": "a8baa705",
      "metadata": {
        "id": "a8baa705"
      },
      "outputs": [],
      "source": [
        "#####################Physician Payments Table##########\n",
        "df_payment_exploded_physician=df_payment.explode('physicians_npi')\n",
        "df_payment_exploded_physician=df_payment_exploded_physician[df_payment_exploded_physician.physicians_npi.notna()]\n",
        "df_payment_exploded_physician=df_payment_exploded_physician[df_payment_exploded_physician.physicians_npi!=\"\"]\n",
        "df_payment_exploded_physician[\"physicians_npi\"]=df_payment_exploded_physician.physicians_npi.astype(\"float\")\n",
        "df_physicians[\"covered_recipient_npi\"]=df_physicians.covered_recipient_npi.astype(\"float\")\n",
        "\n",
        "df_payment_exploded_physician = df_payment_exploded_physician.rename(columns={\"Id\":\"payment_id\"})\n",
        "\n",
        "#print(df_payment_exploded_physician.info())\n",
        "physician_payment=pd.merge(df_payment_exploded_physician,df_physicians,left_on=\"physicians_npi\",right_on=\"covered_recipient_npi\").rename(columns={\"id\":\"physician_id\"})[[ \"physician_id\",\"payment_id\"]].sort_values(\"payment_id\")\n",
        "#print(physician_payment)"
      ]
    },
    {
      "cell_type": "code",
      "source": [
        "#########################Reviews Table###################\n",
        "df_reviews[\"Id\"]=df_reviews.index+1\n",
        "reviews=pd.merge(df_reviews,df_physicians,left_on=\"NPI\",right_on=\"covered_recipient_npi\").rename(columns={\"Id\":\"id\",\"id\":\"physician_id\",\"final_MIPS_score\":\"score\"})[[\"id\",\"physician_id\",\"score\"]]"
      ],
      "metadata": {
        "id": "M_2uW_iBSJ7D"
      },
      "id": "M_2uW_iBSJ7D",
      "execution_count": null,
      "outputs": []
    },
    {
      "cell_type": "code",
      "execution_count": null,
      "id": "7431fd81",
      "metadata": {
        "id": "7431fd81",
        "colab": {
          "base_uri": "https://localhost:8080/"
        },
        "outputId": "70285c03-5dfc-4ef7-fde7-2b2d36a5610b"
      },
      "outputs": [
        {
          "output_type": "stream",
          "name": "stdout",
          "text": [
            "            id  physician_id  score\n",
            "0            2        402379     82\n",
            "1            3        849985     60\n",
            "2            4        475827     60\n",
            "3            6        334568    100\n",
            "4            7        877310     60\n",
            "...        ...           ...    ...\n",
            "475234  698878        544743     60\n",
            "475235  698879        411516     60\n",
            "475236  698881       1058624     60\n",
            "475237  698882       1250890     60\n",
            "475238  698883        523718    100\n",
            "\n",
            "[475239 rows x 3 columns]\n"
          ]
        }
      ],
      "source": [
        "#print(physician_payment.info())\n",
        "print(reviews)"
      ]
    },
    {
      "cell_type": "code",
      "source": [
        "#Remove unnecesary columns from payment table\n",
        "df_payment=df_payment[[\"Id\",\"covered_recipient_type_id\",\"date_id\",\"city_id\",\"amount\"]]\n",
        "df_payment=df_payment.rename(columns={\"Id\":\"id\"})\n",
        "df_payment.to_csv()\n",
        "\n",
        "from google.colab import files\n",
        "df_payment.to_csv('payment.csv')\n",
        "files.download('payment.csv')\n",
        "\n",
        "\n",
        "\n"
      ],
      "metadata": {
        "colab": {
          "base_uri": "https://localhost:8080/",
          "height": 381
        },
        "id": "wZXcr0lMTpxl",
        "outputId": "742bae5e-f83e-49d3-af11-bbf33aadfe9c"
      },
      "id": "wZXcr0lMTpxl",
      "execution_count": null,
      "outputs": [
        {
          "output_type": "error",
          "ename": "KeyError",
          "evalue": "ignored",
          "traceback": [
            "\u001b[0;31m---------------------------------------------------------------------------\u001b[0m",
            "\u001b[0;31mKeyError\u001b[0m                                  Traceback (most recent call last)",
            "\u001b[0;32m<ipython-input-40-45b0bef9bbd2>\u001b[0m in \u001b[0;36m<cell line: 2>\u001b[0;34m()\u001b[0m\n\u001b[1;32m      1\u001b[0m \u001b[0;31m#Remove unnecesary columns from payment table\u001b[0m\u001b[0;34m\u001b[0m\u001b[0;34m\u001b[0m\u001b[0m\n\u001b[0;32m----> 2\u001b[0;31m \u001b[0mdf_payment\u001b[0m\u001b[0;34m=\u001b[0m\u001b[0mdf_payment\u001b[0m\u001b[0;34m[\u001b[0m\u001b[0;34m[\u001b[0m\u001b[0;34m\"Id\"\u001b[0m\u001b[0;34m,\u001b[0m\u001b[0;34m\"covered_recipient_type_id\"\u001b[0m\u001b[0;34m,\u001b[0m\u001b[0;34m\"date_id\"\u001b[0m\u001b[0;34m,\u001b[0m\u001b[0;34m\"city_id\"\u001b[0m\u001b[0;34m,\u001b[0m\u001b[0;34m\"amount\"\u001b[0m\u001b[0;34m]\u001b[0m\u001b[0;34m]\u001b[0m\u001b[0;34m\u001b[0m\u001b[0;34m\u001b[0m\u001b[0m\n\u001b[0m\u001b[1;32m      3\u001b[0m \u001b[0mdf_payment\u001b[0m\u001b[0;34m=\u001b[0m\u001b[0mdf_payment\u001b[0m\u001b[0;34m.\u001b[0m\u001b[0mrename\u001b[0m\u001b[0;34m(\u001b[0m\u001b[0mcolumns\u001b[0m\u001b[0;34m=\u001b[0m\u001b[0;34m{\u001b[0m\u001b[0;34m\"Id\"\u001b[0m\u001b[0;34m:\u001b[0m\u001b[0;34m\"id\"\u001b[0m\u001b[0;34m}\u001b[0m\u001b[0;34m)\u001b[0m\u001b[0;34m\u001b[0m\u001b[0;34m\u001b[0m\u001b[0m\n\u001b[1;32m      4\u001b[0m \u001b[0mdf_payment\u001b[0m\u001b[0;34m.\u001b[0m\u001b[0mto_csv\u001b[0m\u001b[0;34m(\u001b[0m\u001b[0;34m)\u001b[0m\u001b[0;34m\u001b[0m\u001b[0;34m\u001b[0m\u001b[0m\n\u001b[1;32m      5\u001b[0m \u001b[0;34m\u001b[0m\u001b[0m\n",
            "\u001b[0;32m/usr/local/lib/python3.10/dist-packages/pandas/core/frame.py\u001b[0m in \u001b[0;36m__getitem__\u001b[0;34m(self, key)\u001b[0m\n\u001b[1;32m   3811\u001b[0m             \u001b[0;32mif\u001b[0m \u001b[0mis_iterator\u001b[0m\u001b[0;34m(\u001b[0m\u001b[0mkey\u001b[0m\u001b[0;34m)\u001b[0m\u001b[0;34m:\u001b[0m\u001b[0;34m\u001b[0m\u001b[0;34m\u001b[0m\u001b[0m\n\u001b[1;32m   3812\u001b[0m                 \u001b[0mkey\u001b[0m \u001b[0;34m=\u001b[0m \u001b[0mlist\u001b[0m\u001b[0;34m(\u001b[0m\u001b[0mkey\u001b[0m\u001b[0;34m)\u001b[0m\u001b[0;34m\u001b[0m\u001b[0;34m\u001b[0m\u001b[0m\n\u001b[0;32m-> 3813\u001b[0;31m             \u001b[0mindexer\u001b[0m \u001b[0;34m=\u001b[0m \u001b[0mself\u001b[0m\u001b[0;34m.\u001b[0m\u001b[0mcolumns\u001b[0m\u001b[0;34m.\u001b[0m\u001b[0m_get_indexer_strict\u001b[0m\u001b[0;34m(\u001b[0m\u001b[0mkey\u001b[0m\u001b[0;34m,\u001b[0m \u001b[0;34m\"columns\"\u001b[0m\u001b[0;34m)\u001b[0m\u001b[0;34m[\u001b[0m\u001b[0;36m1\u001b[0m\u001b[0;34m]\u001b[0m\u001b[0;34m\u001b[0m\u001b[0;34m\u001b[0m\u001b[0m\n\u001b[0m\u001b[1;32m   3814\u001b[0m \u001b[0;34m\u001b[0m\u001b[0m\n\u001b[1;32m   3815\u001b[0m         \u001b[0;31m# take() does not accept boolean indexers\u001b[0m\u001b[0;34m\u001b[0m\u001b[0;34m\u001b[0m\u001b[0m\n",
            "\u001b[0;32m/usr/local/lib/python3.10/dist-packages/pandas/core/indexes/base.py\u001b[0m in \u001b[0;36m_get_indexer_strict\u001b[0;34m(self, key, axis_name)\u001b[0m\n\u001b[1;32m   6068\u001b[0m             \u001b[0mkeyarr\u001b[0m\u001b[0;34m,\u001b[0m \u001b[0mindexer\u001b[0m\u001b[0;34m,\u001b[0m \u001b[0mnew_indexer\u001b[0m \u001b[0;34m=\u001b[0m \u001b[0mself\u001b[0m\u001b[0;34m.\u001b[0m\u001b[0m_reindex_non_unique\u001b[0m\u001b[0;34m(\u001b[0m\u001b[0mkeyarr\u001b[0m\u001b[0;34m)\u001b[0m\u001b[0;34m\u001b[0m\u001b[0;34m\u001b[0m\u001b[0m\n\u001b[1;32m   6069\u001b[0m \u001b[0;34m\u001b[0m\u001b[0m\n\u001b[0;32m-> 6070\u001b[0;31m         \u001b[0mself\u001b[0m\u001b[0;34m.\u001b[0m\u001b[0m_raise_if_missing\u001b[0m\u001b[0;34m(\u001b[0m\u001b[0mkeyarr\u001b[0m\u001b[0;34m,\u001b[0m \u001b[0mindexer\u001b[0m\u001b[0;34m,\u001b[0m \u001b[0maxis_name\u001b[0m\u001b[0;34m)\u001b[0m\u001b[0;34m\u001b[0m\u001b[0;34m\u001b[0m\u001b[0m\n\u001b[0m\u001b[1;32m   6071\u001b[0m \u001b[0;34m\u001b[0m\u001b[0m\n\u001b[1;32m   6072\u001b[0m         \u001b[0mkeyarr\u001b[0m \u001b[0;34m=\u001b[0m \u001b[0mself\u001b[0m\u001b[0;34m.\u001b[0m\u001b[0mtake\u001b[0m\u001b[0;34m(\u001b[0m\u001b[0mindexer\u001b[0m\u001b[0;34m)\u001b[0m\u001b[0;34m\u001b[0m\u001b[0;34m\u001b[0m\u001b[0m\n",
            "\u001b[0;32m/usr/local/lib/python3.10/dist-packages/pandas/core/indexes/base.py\u001b[0m in \u001b[0;36m_raise_if_missing\u001b[0;34m(self, key, indexer, axis_name)\u001b[0m\n\u001b[1;32m   6131\u001b[0m \u001b[0;34m\u001b[0m\u001b[0m\n\u001b[1;32m   6132\u001b[0m             \u001b[0mnot_found\u001b[0m \u001b[0;34m=\u001b[0m \u001b[0mlist\u001b[0m\u001b[0;34m(\u001b[0m\u001b[0mensure_index\u001b[0m\u001b[0;34m(\u001b[0m\u001b[0mkey\u001b[0m\u001b[0;34m)\u001b[0m\u001b[0;34m[\u001b[0m\u001b[0mmissing_mask\u001b[0m\u001b[0;34m.\u001b[0m\u001b[0mnonzero\u001b[0m\u001b[0;34m(\u001b[0m\u001b[0;34m)\u001b[0m\u001b[0;34m[\u001b[0m\u001b[0;36m0\u001b[0m\u001b[0;34m]\u001b[0m\u001b[0;34m]\u001b[0m\u001b[0;34m.\u001b[0m\u001b[0munique\u001b[0m\u001b[0;34m(\u001b[0m\u001b[0;34m)\u001b[0m\u001b[0;34m)\u001b[0m\u001b[0;34m\u001b[0m\u001b[0;34m\u001b[0m\u001b[0m\n\u001b[0;32m-> 6133\u001b[0;31m             \u001b[0;32mraise\u001b[0m \u001b[0mKeyError\u001b[0m\u001b[0;34m(\u001b[0m\u001b[0;34mf\"{not_found} not in index\"\u001b[0m\u001b[0;34m)\u001b[0m\u001b[0;34m\u001b[0m\u001b[0;34m\u001b[0m\u001b[0m\n\u001b[0m\u001b[1;32m   6134\u001b[0m \u001b[0;34m\u001b[0m\u001b[0m\n\u001b[1;32m   6135\u001b[0m     \u001b[0;34m@\u001b[0m\u001b[0moverload\u001b[0m\u001b[0;34m\u001b[0m\u001b[0;34m\u001b[0m\u001b[0m\n",
            "\u001b[0;31mKeyError\u001b[0m: \"['Id'] not in index\""
          ]
        }
      ]
    },
    {
      "cell_type": "code",
      "source": [
        "from google.colab import files\n",
        "df_payment.to_csv('payment.csv',index=False)\n",
        "files.download('payment.csv')\n",
        "\n",
        "df_hospitals.to_csv('hospital.csv',index=False)\n",
        "files.download('hospital.csv')\n",
        "\n",
        "\n",
        "date_dimension.to_csv('date.csv',index=False)\n",
        "files.download('date.csv')\n",
        "\n",
        "df_cities.to_csv('city.csv',index=False)\n",
        "files.download('city.csv')\n",
        "\n",
        "df_states.to_csv('state.csv',index=False)\n",
        "files.download('state.csv')\n",
        "\n",
        "df_cover_recipient_type.to_csv('cover_recipient_type.csv',index=False)\n",
        "files.download('cover_recipient_type.csv')\n",
        "\n",
        "df_product_categories.to_csv('category_product_therapeutic_area.csv',index=False)\n",
        "files.download('category_product_therapeutic_area.csv')\n",
        "\n",
        "df_specialties.to_csv('specialty.csv',index=False)\n",
        "files.download('specialty.csv')\n",
        "\n",
        "df_physicians.to_csv('physician.csv',index=False)\n",
        "files.download('physician.csv')\n",
        "\n",
        "reviews.to_csv('reviews.csv',index=False)\n",
        "files.download('reviews.csv')\n",
        "\n",
        "physician_payment.to_csv('physician_payment.csv',index=False)\n",
        "files.download('physician_payment.csv')\n",
        "\n",
        "category_product_therapeutic_area_payment.to_csv('category_product_therapeutic_area_payment.csv',index=False)\n",
        "files.download('category_product_therapeutic_area_payment.csv')\n",
        "\n",
        "hospital_payment.to_csv('hospital_payment.csv',index=False)\n",
        "files.download('hospital_payment.csv')\n",
        "\n",
        "specialty_payment.to_csv('specialty_payment.csv',index=False)\n",
        "files.download('specialty_payment.csv')\n",
        "\n"
      ],
      "metadata": {
        "colab": {
          "base_uri": "https://localhost:8080/",
          "height": 17
        },
        "id": "8wr-1y6oWi9V",
        "outputId": "319e64b5-0e2f-460b-8ad9-063bd3f17402"
      },
      "id": "8wr-1y6oWi9V",
      "execution_count": null,
      "outputs": [
        {
          "output_type": "display_data",
          "data": {
            "text/plain": [
              "<IPython.core.display.Javascript object>"
            ],
            "application/javascript": [
              "\n",
              "    async function download(id, filename, size) {\n",
              "      if (!google.colab.kernel.accessAllowed) {\n",
              "        return;\n",
              "      }\n",
              "      const div = document.createElement('div');\n",
              "      const label = document.createElement('label');\n",
              "      label.textContent = `Downloading \"${filename}\": `;\n",
              "      div.appendChild(label);\n",
              "      const progress = document.createElement('progress');\n",
              "      progress.max = size;\n",
              "      div.appendChild(progress);\n",
              "      document.body.appendChild(div);\n",
              "\n",
              "      const buffers = [];\n",
              "      let downloaded = 0;\n",
              "\n",
              "      const channel = await google.colab.kernel.comms.open(id);\n",
              "      // Send a message to notify the kernel that we're ready.\n",
              "      channel.send({})\n",
              "\n",
              "      for await (const message of channel.messages) {\n",
              "        // Send a message to notify the kernel that we're ready.\n",
              "        channel.send({})\n",
              "        if (message.buffers) {\n",
              "          for (const buffer of message.buffers) {\n",
              "            buffers.push(buffer);\n",
              "            downloaded += buffer.byteLength;\n",
              "            progress.value = downloaded;\n",
              "          }\n",
              "        }\n",
              "      }\n",
              "      const blob = new Blob(buffers, {type: 'application/binary'});\n",
              "      const a = document.createElement('a');\n",
              "      a.href = window.URL.createObjectURL(blob);\n",
              "      a.download = filename;\n",
              "      div.appendChild(a);\n",
              "      a.click();\n",
              "      div.remove();\n",
              "    }\n",
              "  "
            ]
          },
          "metadata": {}
        },
        {
          "output_type": "display_data",
          "data": {
            "text/plain": [
              "<IPython.core.display.Javascript object>"
            ],
            "application/javascript": [
              "download(\"download_7a798479-c7b9-41e2-9110-c4b2198ffdb8\", \"payment.csv\", 3361)"
            ]
          },
          "metadata": {}
        },
        {
          "output_type": "display_data",
          "data": {
            "text/plain": [
              "<IPython.core.display.Javascript object>"
            ],
            "application/javascript": [
              "\n",
              "    async function download(id, filename, size) {\n",
              "      if (!google.colab.kernel.accessAllowed) {\n",
              "        return;\n",
              "      }\n",
              "      const div = document.createElement('div');\n",
              "      const label = document.createElement('label');\n",
              "      label.textContent = `Downloading \"${filename}\": `;\n",
              "      div.appendChild(label);\n",
              "      const progress = document.createElement('progress');\n",
              "      progress.max = size;\n",
              "      div.appendChild(progress);\n",
              "      document.body.appendChild(div);\n",
              "\n",
              "      const buffers = [];\n",
              "      let downloaded = 0;\n",
              "\n",
              "      const channel = await google.colab.kernel.comms.open(id);\n",
              "      // Send a message to notify the kernel that we're ready.\n",
              "      channel.send({})\n",
              "\n",
              "      for await (const message of channel.messages) {\n",
              "        // Send a message to notify the kernel that we're ready.\n",
              "        channel.send({})\n",
              "        if (message.buffers) {\n",
              "          for (const buffer of message.buffers) {\n",
              "            buffers.push(buffer);\n",
              "            downloaded += buffer.byteLength;\n",
              "            progress.value = downloaded;\n",
              "          }\n",
              "        }\n",
              "      }\n",
              "      const blob = new Blob(buffers, {type: 'application/binary'});\n",
              "      const a = document.createElement('a');\n",
              "      a.href = window.URL.createObjectURL(blob);\n",
              "      a.download = filename;\n",
              "      div.appendChild(a);\n",
              "      a.click();\n",
              "      div.remove();\n",
              "    }\n",
              "  "
            ]
          },
          "metadata": {}
        },
        {
          "output_type": "display_data",
          "data": {
            "text/plain": [
              "<IPython.core.display.Javascript object>"
            ],
            "application/javascript": [
              "download(\"download_98101b8b-1463-4630-8b37-166037f96e7b\", \"hospital.csv\", 9966)"
            ]
          },
          "metadata": {}
        },
        {
          "output_type": "display_data",
          "data": {
            "text/plain": [
              "<IPython.core.display.Javascript object>"
            ],
            "application/javascript": [
              "\n",
              "    async function download(id, filename, size) {\n",
              "      if (!google.colab.kernel.accessAllowed) {\n",
              "        return;\n",
              "      }\n",
              "      const div = document.createElement('div');\n",
              "      const label = document.createElement('label');\n",
              "      label.textContent = `Downloading \"${filename}\": `;\n",
              "      div.appendChild(label);\n",
              "      const progress = document.createElement('progress');\n",
              "      progress.max = size;\n",
              "      div.appendChild(progress);\n",
              "      document.body.appendChild(div);\n",
              "\n",
              "      const buffers = [];\n",
              "      let downloaded = 0;\n",
              "\n",
              "      const channel = await google.colab.kernel.comms.open(id);\n",
              "      // Send a message to notify the kernel that we're ready.\n",
              "      channel.send({})\n",
              "\n",
              "      for await (const message of channel.messages) {\n",
              "        // Send a message to notify the kernel that we're ready.\n",
              "        channel.send({})\n",
              "        if (message.buffers) {\n",
              "          for (const buffer of message.buffers) {\n",
              "            buffers.push(buffer);\n",
              "            downloaded += buffer.byteLength;\n",
              "            progress.value = downloaded;\n",
              "          }\n",
              "        }\n",
              "      }\n",
              "      const blob = new Blob(buffers, {type: 'application/binary'});\n",
              "      const a = document.createElement('a');\n",
              "      a.href = window.URL.createObjectURL(blob);\n",
              "      a.download = filename;\n",
              "      div.appendChild(a);\n",
              "      a.click();\n",
              "      div.remove();\n",
              "    }\n",
              "  "
            ]
          },
          "metadata": {}
        },
        {
          "output_type": "display_data",
          "data": {
            "text/plain": [
              "<IPython.core.display.Javascript object>"
            ],
            "application/javascript": [
              "download(\"download_03a2c753-352c-4d69-9528-07de8ae44933\", \"date.csv\", 55817)"
            ]
          },
          "metadata": {}
        },
        {
          "output_type": "display_data",
          "data": {
            "text/plain": [
              "<IPython.core.display.Javascript object>"
            ],
            "application/javascript": [
              "\n",
              "    async function download(id, filename, size) {\n",
              "      if (!google.colab.kernel.accessAllowed) {\n",
              "        return;\n",
              "      }\n",
              "      const div = document.createElement('div');\n",
              "      const label = document.createElement('label');\n",
              "      label.textContent = `Downloading \"${filename}\": `;\n",
              "      div.appendChild(label);\n",
              "      const progress = document.createElement('progress');\n",
              "      progress.max = size;\n",
              "      div.appendChild(progress);\n",
              "      document.body.appendChild(div);\n",
              "\n",
              "      const buffers = [];\n",
              "      let downloaded = 0;\n",
              "\n",
              "      const channel = await google.colab.kernel.comms.open(id);\n",
              "      // Send a message to notify the kernel that we're ready.\n",
              "      channel.send({})\n",
              "\n",
              "      for await (const message of channel.messages) {\n",
              "        // Send a message to notify the kernel that we're ready.\n",
              "        channel.send({})\n",
              "        if (message.buffers) {\n",
              "          for (const buffer of message.buffers) {\n",
              "            buffers.push(buffer);\n",
              "            downloaded += buffer.byteLength;\n",
              "            progress.value = downloaded;\n",
              "          }\n",
              "        }\n",
              "      }\n",
              "      const blob = new Blob(buffers, {type: 'application/binary'});\n",
              "      const a = document.createElement('a');\n",
              "      a.href = window.URL.createObjectURL(blob);\n",
              "      a.download = filename;\n",
              "      div.appendChild(a);\n",
              "      a.click();\n",
              "      div.remove();\n",
              "    }\n",
              "  "
            ]
          },
          "metadata": {}
        },
        {
          "output_type": "display_data",
          "data": {
            "text/plain": [
              "<IPython.core.display.Javascript object>"
            ],
            "application/javascript": [
              "download(\"download_5f998e4e-dffe-4a2b-8a26-4cbebd901447\", \"city.csv\", 3378)"
            ]
          },
          "metadata": {}
        },
        {
          "output_type": "display_data",
          "data": {
            "text/plain": [
              "<IPython.core.display.Javascript object>"
            ],
            "application/javascript": [
              "\n",
              "    async function download(id, filename, size) {\n",
              "      if (!google.colab.kernel.accessAllowed) {\n",
              "        return;\n",
              "      }\n",
              "      const div = document.createElement('div');\n",
              "      const label = document.createElement('label');\n",
              "      label.textContent = `Downloading \"${filename}\": `;\n",
              "      div.appendChild(label);\n",
              "      const progress = document.createElement('progress');\n",
              "      progress.max = size;\n",
              "      div.appendChild(progress);\n",
              "      document.body.appendChild(div);\n",
              "\n",
              "      const buffers = [];\n",
              "      let downloaded = 0;\n",
              "\n",
              "      const channel = await google.colab.kernel.comms.open(id);\n",
              "      // Send a message to notify the kernel that we're ready.\n",
              "      channel.send({})\n",
              "\n",
              "      for await (const message of channel.messages) {\n",
              "        // Send a message to notify the kernel that we're ready.\n",
              "        channel.send({})\n",
              "        if (message.buffers) {\n",
              "          for (const buffer of message.buffers) {\n",
              "            buffers.push(buffer);\n",
              "            downloaded += buffer.byteLength;\n",
              "            progress.value = downloaded;\n",
              "          }\n",
              "        }\n",
              "      }\n",
              "      const blob = new Blob(buffers, {type: 'application/binary'});\n",
              "      const a = document.createElement('a');\n",
              "      a.href = window.URL.createObjectURL(blob);\n",
              "      a.download = filename;\n",
              "      div.appendChild(a);\n",
              "      a.click();\n",
              "      div.remove();\n",
              "    }\n",
              "  "
            ]
          },
          "metadata": {}
        },
        {
          "output_type": "display_data",
          "data": {
            "text/plain": [
              "<IPython.core.display.Javascript object>"
            ],
            "application/javascript": [
              "download(\"download_a4e12ad1-75e7-4e32-8bb3-db161928e503\", \"state.csv\", 803)"
            ]
          },
          "metadata": {}
        },
        {
          "output_type": "display_data",
          "data": {
            "text/plain": [
              "<IPython.core.display.Javascript object>"
            ],
            "application/javascript": [
              "\n",
              "    async function download(id, filename, size) {\n",
              "      if (!google.colab.kernel.accessAllowed) {\n",
              "        return;\n",
              "      }\n",
              "      const div = document.createElement('div');\n",
              "      const label = document.createElement('label');\n",
              "      label.textContent = `Downloading \"${filename}\": `;\n",
              "      div.appendChild(label);\n",
              "      const progress = document.createElement('progress');\n",
              "      progress.max = size;\n",
              "      div.appendChild(progress);\n",
              "      document.body.appendChild(div);\n",
              "\n",
              "      const buffers = [];\n",
              "      let downloaded = 0;\n",
              "\n",
              "      const channel = await google.colab.kernel.comms.open(id);\n",
              "      // Send a message to notify the kernel that we're ready.\n",
              "      channel.send({})\n",
              "\n",
              "      for await (const message of channel.messages) {\n",
              "        // Send a message to notify the kernel that we're ready.\n",
              "        channel.send({})\n",
              "        if (message.buffers) {\n",
              "          for (const buffer of message.buffers) {\n",
              "            buffers.push(buffer);\n",
              "            downloaded += buffer.byteLength;\n",
              "            progress.value = downloaded;\n",
              "          }\n",
              "        }\n",
              "      }\n",
              "      const blob = new Blob(buffers, {type: 'application/binary'});\n",
              "      const a = document.createElement('a');\n",
              "      a.href = window.URL.createObjectURL(blob);\n",
              "      a.download = filename;\n",
              "      div.appendChild(a);\n",
              "      a.click();\n",
              "      div.remove();\n",
              "    }\n",
              "  "
            ]
          },
          "metadata": {}
        },
        {
          "output_type": "display_data",
          "data": {
            "text/plain": [
              "<IPython.core.display.Javascript object>"
            ],
            "application/javascript": [
              "download(\"download_7ef54035-3504-41a1-9bf0-f69e61c69959\", \"cover_recipient_type.csv\", 123)"
            ]
          },
          "metadata": {}
        },
        {
          "output_type": "display_data",
          "data": {
            "text/plain": [
              "<IPython.core.display.Javascript object>"
            ],
            "application/javascript": [
              "\n",
              "    async function download(id, filename, size) {\n",
              "      if (!google.colab.kernel.accessAllowed) {\n",
              "        return;\n",
              "      }\n",
              "      const div = document.createElement('div');\n",
              "      const label = document.createElement('label');\n",
              "      label.textContent = `Downloading \"${filename}\": `;\n",
              "      div.appendChild(label);\n",
              "      const progress = document.createElement('progress');\n",
              "      progress.max = size;\n",
              "      div.appendChild(progress);\n",
              "      document.body.appendChild(div);\n",
              "\n",
              "      const buffers = [];\n",
              "      let downloaded = 0;\n",
              "\n",
              "      const channel = await google.colab.kernel.comms.open(id);\n",
              "      // Send a message to notify the kernel that we're ready.\n",
              "      channel.send({})\n",
              "\n",
              "      for await (const message of channel.messages) {\n",
              "        // Send a message to notify the kernel that we're ready.\n",
              "        channel.send({})\n",
              "        if (message.buffers) {\n",
              "          for (const buffer of message.buffers) {\n",
              "            buffers.push(buffer);\n",
              "            downloaded += buffer.byteLength;\n",
              "            progress.value = downloaded;\n",
              "          }\n",
              "        }\n",
              "      }\n",
              "      const blob = new Blob(buffers, {type: 'application/binary'});\n",
              "      const a = document.createElement('a');\n",
              "      a.href = window.URL.createObjectURL(blob);\n",
              "      a.download = filename;\n",
              "      div.appendChild(a);\n",
              "      a.click();\n",
              "      div.remove();\n",
              "    }\n",
              "  "
            ]
          },
          "metadata": {}
        },
        {
          "output_type": "display_data",
          "data": {
            "text/plain": [
              "<IPython.core.display.Javascript object>"
            ],
            "application/javascript": [
              "download(\"download_7dc6c9f7-602c-476a-84f3-7ee22649da61\", \"category_product_therapeutic_area.csv\", 3057)"
            ]
          },
          "metadata": {}
        },
        {
          "output_type": "display_data",
          "data": {
            "text/plain": [
              "<IPython.core.display.Javascript object>"
            ],
            "application/javascript": [
              "\n",
              "    async function download(id, filename, size) {\n",
              "      if (!google.colab.kernel.accessAllowed) {\n",
              "        return;\n",
              "      }\n",
              "      const div = document.createElement('div');\n",
              "      const label = document.createElement('label');\n",
              "      label.textContent = `Downloading \"${filename}\": `;\n",
              "      div.appendChild(label);\n",
              "      const progress = document.createElement('progress');\n",
              "      progress.max = size;\n",
              "      div.appendChild(progress);\n",
              "      document.body.appendChild(div);\n",
              "\n",
              "      const buffers = [];\n",
              "      let downloaded = 0;\n",
              "\n",
              "      const channel = await google.colab.kernel.comms.open(id);\n",
              "      // Send a message to notify the kernel that we're ready.\n",
              "      channel.send({})\n",
              "\n",
              "      for await (const message of channel.messages) {\n",
              "        // Send a message to notify the kernel that we're ready.\n",
              "        channel.send({})\n",
              "        if (message.buffers) {\n",
              "          for (const buffer of message.buffers) {\n",
              "            buffers.push(buffer);\n",
              "            downloaded += buffer.byteLength;\n",
              "            progress.value = downloaded;\n",
              "          }\n",
              "        }\n",
              "      }\n",
              "      const blob = new Blob(buffers, {type: 'application/binary'});\n",
              "      const a = document.createElement('a');\n",
              "      a.href = window.URL.createObjectURL(blob);\n",
              "      a.download = filename;\n",
              "      div.appendChild(a);\n",
              "      a.click();\n",
              "      div.remove();\n",
              "    }\n",
              "  "
            ]
          },
          "metadata": {}
        },
        {
          "output_type": "display_data",
          "data": {
            "text/plain": [
              "<IPython.core.display.Javascript object>"
            ],
            "application/javascript": [
              "download(\"download_5bb80999-2dd6-4695-9a91-6a374080278a\", \"specialty.csv\", 3303)"
            ]
          },
          "metadata": {}
        },
        {
          "output_type": "display_data",
          "data": {
            "text/plain": [
              "<IPython.core.display.Javascript object>"
            ],
            "application/javascript": [
              "\n",
              "    async function download(id, filename, size) {\n",
              "      if (!google.colab.kernel.accessAllowed) {\n",
              "        return;\n",
              "      }\n",
              "      const div = document.createElement('div');\n",
              "      const label = document.createElement('label');\n",
              "      label.textContent = `Downloading \"${filename}\": `;\n",
              "      div.appendChild(label);\n",
              "      const progress = document.createElement('progress');\n",
              "      progress.max = size;\n",
              "      div.appendChild(progress);\n",
              "      document.body.appendChild(div);\n",
              "\n",
              "      const buffers = [];\n",
              "      let downloaded = 0;\n",
              "\n",
              "      const channel = await google.colab.kernel.comms.open(id);\n",
              "      // Send a message to notify the kernel that we're ready.\n",
              "      channel.send({})\n",
              "\n",
              "      for await (const message of channel.messages) {\n",
              "        // Send a message to notify the kernel that we're ready.\n",
              "        channel.send({})\n",
              "        if (message.buffers) {\n",
              "          for (const buffer of message.buffers) {\n",
              "            buffers.push(buffer);\n",
              "            downloaded += buffer.byteLength;\n",
              "            progress.value = downloaded;\n",
              "          }\n",
              "        }\n",
              "      }\n",
              "      const blob = new Blob(buffers, {type: 'application/binary'});\n",
              "      const a = document.createElement('a');\n",
              "      a.href = window.URL.createObjectURL(blob);\n",
              "      a.download = filename;\n",
              "      div.appendChild(a);\n",
              "      a.click();\n",
              "      div.remove();\n",
              "    }\n",
              "  "
            ]
          },
          "metadata": {}
        },
        {
          "output_type": "display_data",
          "data": {
            "text/plain": [
              "<IPython.core.display.Javascript object>"
            ],
            "application/javascript": [
              "download(\"download_e50a7668-7e34-4e3d-a2be-42eb6e53ffae\", \"physician.csv\", 61830630)"
            ]
          },
          "metadata": {}
        },
        {
          "output_type": "display_data",
          "data": {
            "text/plain": [
              "<IPython.core.display.Javascript object>"
            ],
            "application/javascript": [
              "\n",
              "    async function download(id, filename, size) {\n",
              "      if (!google.colab.kernel.accessAllowed) {\n",
              "        return;\n",
              "      }\n",
              "      const div = document.createElement('div');\n",
              "      const label = document.createElement('label');\n",
              "      label.textContent = `Downloading \"${filename}\": `;\n",
              "      div.appendChild(label);\n",
              "      const progress = document.createElement('progress');\n",
              "      progress.max = size;\n",
              "      div.appendChild(progress);\n",
              "      document.body.appendChild(div);\n",
              "\n",
              "      const buffers = [];\n",
              "      let downloaded = 0;\n",
              "\n",
              "      const channel = await google.colab.kernel.comms.open(id);\n",
              "      // Send a message to notify the kernel that we're ready.\n",
              "      channel.send({})\n",
              "\n",
              "      for await (const message of channel.messages) {\n",
              "        // Send a message to notify the kernel that we're ready.\n",
              "        channel.send({})\n",
              "        if (message.buffers) {\n",
              "          for (const buffer of message.buffers) {\n",
              "            buffers.push(buffer);\n",
              "            downloaded += buffer.byteLength;\n",
              "            progress.value = downloaded;\n",
              "          }\n",
              "        }\n",
              "      }\n",
              "      const blob = new Blob(buffers, {type: 'application/binary'});\n",
              "      const a = document.createElement('a');\n",
              "      a.href = window.URL.createObjectURL(blob);\n",
              "      a.download = filename;\n",
              "      div.appendChild(a);\n",
              "      a.click();\n",
              "      div.remove();\n",
              "    }\n",
              "  "
            ]
          },
          "metadata": {}
        },
        {
          "output_type": "display_data",
          "data": {
            "text/plain": [
              "<IPython.core.display.Javascript object>"
            ],
            "application/javascript": [
              "download(\"download_45f87215-635b-44b3-9566-21809e957c31\", \"reviews.csv\", 8241287)"
            ]
          },
          "metadata": {}
        },
        {
          "output_type": "display_data",
          "data": {
            "text/plain": [
              "<IPython.core.display.Javascript object>"
            ],
            "application/javascript": [
              "\n",
              "    async function download(id, filename, size) {\n",
              "      if (!google.colab.kernel.accessAllowed) {\n",
              "        return;\n",
              "      }\n",
              "      const div = document.createElement('div');\n",
              "      const label = document.createElement('label');\n",
              "      label.textContent = `Downloading \"${filename}\": `;\n",
              "      div.appendChild(label);\n",
              "      const progress = document.createElement('progress');\n",
              "      progress.max = size;\n",
              "      div.appendChild(progress);\n",
              "      document.body.appendChild(div);\n",
              "\n",
              "      const buffers = [];\n",
              "      let downloaded = 0;\n",
              "\n",
              "      const channel = await google.colab.kernel.comms.open(id);\n",
              "      // Send a message to notify the kernel that we're ready.\n",
              "      channel.send({})\n",
              "\n",
              "      for await (const message of channel.messages) {\n",
              "        // Send a message to notify the kernel that we're ready.\n",
              "        channel.send({})\n",
              "        if (message.buffers) {\n",
              "          for (const buffer of message.buffers) {\n",
              "            buffers.push(buffer);\n",
              "            downloaded += buffer.byteLength;\n",
              "            progress.value = downloaded;\n",
              "          }\n",
              "        }\n",
              "      }\n",
              "      const blob = new Blob(buffers, {type: 'application/binary'});\n",
              "      const a = document.createElement('a');\n",
              "      a.href = window.URL.createObjectURL(blob);\n",
              "      a.download = filename;\n",
              "      div.appendChild(a);\n",
              "      a.click();\n",
              "      div.remove();\n",
              "    }\n",
              "  "
            ]
          },
          "metadata": {}
        },
        {
          "output_type": "display_data",
          "data": {
            "text/plain": [
              "<IPython.core.display.Javascript object>"
            ],
            "application/javascript": [
              "download(\"download_d19f7075-253f-48f5-b03a-945c9cfa8d79\", \"physician_payment.csv\", 1747)"
            ]
          },
          "metadata": {}
        },
        {
          "output_type": "display_data",
          "data": {
            "text/plain": [
              "<IPython.core.display.Javascript object>"
            ],
            "application/javascript": [
              "\n",
              "    async function download(id, filename, size) {\n",
              "      if (!google.colab.kernel.accessAllowed) {\n",
              "        return;\n",
              "      }\n",
              "      const div = document.createElement('div');\n",
              "      const label = document.createElement('label');\n",
              "      label.textContent = `Downloading \"${filename}\": `;\n",
              "      div.appendChild(label);\n",
              "      const progress = document.createElement('progress');\n",
              "      progress.max = size;\n",
              "      div.appendChild(progress);\n",
              "      document.body.appendChild(div);\n",
              "\n",
              "      const buffers = [];\n",
              "      let downloaded = 0;\n",
              "\n",
              "      const channel = await google.colab.kernel.comms.open(id);\n",
              "      // Send a message to notify the kernel that we're ready.\n",
              "      channel.send({})\n",
              "\n",
              "      for await (const message of channel.messages) {\n",
              "        // Send a message to notify the kernel that we're ready.\n",
              "        channel.send({})\n",
              "        if (message.buffers) {\n",
              "          for (const buffer of message.buffers) {\n",
              "            buffers.push(buffer);\n",
              "            downloaded += buffer.byteLength;\n",
              "            progress.value = downloaded;\n",
              "          }\n",
              "        }\n",
              "      }\n",
              "      const blob = new Blob(buffers, {type: 'application/binary'});\n",
              "      const a = document.createElement('a');\n",
              "      a.href = window.URL.createObjectURL(blob);\n",
              "      a.download = filename;\n",
              "      div.appendChild(a);\n",
              "      a.click();\n",
              "      div.remove();\n",
              "    }\n",
              "  "
            ]
          },
          "metadata": {}
        },
        {
          "output_type": "display_data",
          "data": {
            "text/plain": [
              "<IPython.core.display.Javascript object>"
            ],
            "application/javascript": [
              "download(\"download_61f4b355-b6d7-4584-8481-18fc5c7a2270\", \"category_product_therapeutic_area_payment.csv\", 865)"
            ]
          },
          "metadata": {}
        },
        {
          "output_type": "display_data",
          "data": {
            "text/plain": [
              "<IPython.core.display.Javascript object>"
            ],
            "application/javascript": [
              "\n",
              "    async function download(id, filename, size) {\n",
              "      if (!google.colab.kernel.accessAllowed) {\n",
              "        return;\n",
              "      }\n",
              "      const div = document.createElement('div');\n",
              "      const label = document.createElement('label');\n",
              "      label.textContent = `Downloading \"${filename}\": `;\n",
              "      div.appendChild(label);\n",
              "      const progress = document.createElement('progress');\n",
              "      progress.max = size;\n",
              "      div.appendChild(progress);\n",
              "      document.body.appendChild(div);\n",
              "\n",
              "      const buffers = [];\n",
              "      let downloaded = 0;\n",
              "\n",
              "      const channel = await google.colab.kernel.comms.open(id);\n",
              "      // Send a message to notify the kernel that we're ready.\n",
              "      channel.send({})\n",
              "\n",
              "      for await (const message of channel.messages) {\n",
              "        // Send a message to notify the kernel that we're ready.\n",
              "        channel.send({})\n",
              "        if (message.buffers) {\n",
              "          for (const buffer of message.buffers) {\n",
              "            buffers.push(buffer);\n",
              "            downloaded += buffer.byteLength;\n",
              "            progress.value = downloaded;\n",
              "          }\n",
              "        }\n",
              "      }\n",
              "      const blob = new Blob(buffers, {type: 'application/binary'});\n",
              "      const a = document.createElement('a');\n",
              "      a.href = window.URL.createObjectURL(blob);\n",
              "      a.download = filename;\n",
              "      div.appendChild(a);\n",
              "      a.click();\n",
              "      div.remove();\n",
              "    }\n",
              "  "
            ]
          },
          "metadata": {}
        },
        {
          "output_type": "display_data",
          "data": {
            "text/plain": [
              "<IPython.core.display.Javascript object>"
            ],
            "application/javascript": [
              "download(\"download_a73782d6-081b-48bd-a6b5-ceb787b24443\", \"hospital_payment.csv\", 2057)"
            ]
          },
          "metadata": {}
        },
        {
          "output_type": "display_data",
          "data": {
            "text/plain": [
              "<IPython.core.display.Javascript object>"
            ],
            "application/javascript": [
              "\n",
              "    async function download(id, filename, size) {\n",
              "      if (!google.colab.kernel.accessAllowed) {\n",
              "        return;\n",
              "      }\n",
              "      const div = document.createElement('div');\n",
              "      const label = document.createElement('label');\n",
              "      label.textContent = `Downloading \"${filename}\": `;\n",
              "      div.appendChild(label);\n",
              "      const progress = document.createElement('progress');\n",
              "      progress.max = size;\n",
              "      div.appendChild(progress);\n",
              "      document.body.appendChild(div);\n",
              "\n",
              "      const buffers = [];\n",
              "      let downloaded = 0;\n",
              "\n",
              "      const channel = await google.colab.kernel.comms.open(id);\n",
              "      // Send a message to notify the kernel that we're ready.\n",
              "      channel.send({})\n",
              "\n",
              "      for await (const message of channel.messages) {\n",
              "        // Send a message to notify the kernel that we're ready.\n",
              "        channel.send({})\n",
              "        if (message.buffers) {\n",
              "          for (const buffer of message.buffers) {\n",
              "            buffers.push(buffer);\n",
              "            downloaded += buffer.byteLength;\n",
              "            progress.value = downloaded;\n",
              "          }\n",
              "        }\n",
              "      }\n",
              "      const blob = new Blob(buffers, {type: 'application/binary'});\n",
              "      const a = document.createElement('a');\n",
              "      a.href = window.URL.createObjectURL(blob);\n",
              "      a.download = filename;\n",
              "      div.appendChild(a);\n",
              "      a.click();\n",
              "      div.remove();\n",
              "    }\n",
              "  "
            ]
          },
          "metadata": {}
        },
        {
          "output_type": "display_data",
          "data": {
            "text/plain": [
              "<IPython.core.display.Javascript object>"
            ],
            "application/javascript": [
              "download(\"download_9605329a-8884-4fc4-83b0-86e3cf3d356f\", \"specialty_payment.csv\", 2941)"
            ]
          },
          "metadata": {}
        }
      ]
    },
    {
      "cell_type": "code",
      "source": [],
      "metadata": {
        "id": "jV_zkwh7V79s"
      },
      "id": "jV_zkwh7V79s",
      "execution_count": null,
      "outputs": []
    },
    {
      "cell_type": "code",
      "source": [
        "print(df_payment)"
      ],
      "metadata": {
        "colab": {
          "base_uri": "https://localhost:8080/"
        },
        "id": "DeOkMH8pUThg",
        "outputId": "5452fc07-edd3-4ec0-9b74-5ea1ba7d5e1e"
      },
      "id": "DeOkMH8pUThg",
      "execution_count": null,
      "outputs": [
        {
          "output_type": "stream",
          "name": "stdout",
          "text": [
            "      id  covered_recipient_type_id date_id  city_id     amount\n",
            "0      1                          1     288        5   10334.54\n",
            "1      2                          1     315        8      18.50\n",
            "2      3                          1      25       12      17.03\n",
            "3      4                          1     309       13      17.60\n",
            "4      5                          1     309       64      17.60\n",
            "..   ...                        ...     ...      ...        ...\n",
            "167  168                          3     570      107  145389.00\n",
            "168  169                          3     421       39    8527.23\n",
            "169  170                          3     644      165    1670.00\n",
            "170  171                          1     580      160     550.00\n",
            "171  172                          1     617        1     400.00\n",
            "\n",
            "[172 rows x 5 columns]\n"
          ]
        }
      ]
    }
  ],
  "metadata": {
    "kernelspec": {
      "display_name": "Python 3 (ipykernel)",
      "language": "python",
      "name": "python3"
    },
    "language_info": {
      "codemirror_mode": {
        "name": "ipython",
        "version": 3
      },
      "file_extension": ".py",
      "mimetype": "text/x-python",
      "name": "python",
      "nbconvert_exporter": "python",
      "pygments_lexer": "ipython3",
      "version": "3.9.13"
    },
    "colab": {
      "provenance": [],
      "include_colab_link": true
    }
  },
  "nbformat": 4,
  "nbformat_minor": 5
}